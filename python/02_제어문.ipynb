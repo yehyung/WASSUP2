{
 "cells": [
  {
   "cell_type": "markdown",
   "id": "0a64f601",
   "metadata": {},
   "source": [
    "총 5명의 학생이 시험을 보았는데 시험 점수가 60점 이상이면 합격이고 그렇지 않으면 불합격이다. 합격인지, 불합격인지 결과를 보여 주시오."
   ]
  },
  {
   "cell_type": "code",
   "execution_count": 2,
   "id": "c778cca5",
   "metadata": {},
   "outputs": [
    {
     "name": "stdout",
     "output_type": "stream",
     "text": [
      "score:90, 합격\n",
      "score:25, 불합격\n",
      "score:67, 합격\n",
      "score:45, 불합격\n",
      "score:80, 합격\n"
     ]
    }
   ],
   "source": [
    "marks = [90, 25, 67, 45, 80]\n",
    "for score in marks:\n",
    "    if score>=60:\n",
    "        print(\"score:%d, 합격\" %score)\n",
    "    else:\n",
    "        print(\"score:%d, 불합격\" %score)"
   ]
  },
  {
   "cell_type": "code",
   "execution_count": null,
   "id": "4cec2f61",
   "metadata": {},
   "outputs": [],
   "source": []
  }
 ],
 "metadata": {
  "kernelspec": {
   "display_name": "Python 3 (ipykernel)",
   "language": "python",
   "name": "python3"
  },
  "language_info": {
   "codemirror_mode": {
    "name": "ipython",
    "version": 3
   },
   "file_extension": ".py",
   "mimetype": "text/x-python",
   "name": "python",
   "nbconvert_exporter": "python",
   "pygments_lexer": "ipython3",
   "version": "3.11.5"
  }
 },
 "nbformat": 4,
 "nbformat_minor": 5
}
