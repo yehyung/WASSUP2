{
 "cells": [
  {
   "cell_type": "markdown",
   "metadata": {},
   "source": [
    "# 전화번호 프로그램 만들기\n",
    "\n",
    "* 홍길동 010-123-4567\n",
    "* 기능1 : 연락처 추가\n",
    "* 기능2 : 연락처 전체 보기\n",
    "* 기능3 : 검색, 이름을 입력받아서 전화번호 조회\n",
    "* 기능4 : 수정, 이름을 입력받아서 전화번호 입력수정\n",
    "* 기능5 : 삭제, 이름 입력받아서 삭제\n",
    "* 기능6 : 프로그램 종료"
   ]
  },
  {
   "cell_type": "code",
   "execution_count": 1,
   "metadata": {},
   "outputs": [
    {
     "name": "stdout",
     "output_type": "stream",
     "text": [
      "원하는 기능을 선택해주세요(1~6): 6\n",
      "프로그램을 종료합니다.\n"
     ]
    }
   ],
   "source": [
    "number = {\n",
    "    \"홍길동\":\"010-123-4567\"\n",
    "}\n",
    "\n",
    "while True:\n",
    "    cond = input(\"원하는 기능을 선택해주세요(1~6): \")\n",
    "    if cond == \"1\":\n",
    "        name, phone= input(\"추가하실 성함과 전화번호를 입력해주세요(ex.홍길동 010-123-4567): \").split()\n",
    "#         number[name]=phone # 수정도 되어버림...!!\n",
    "        number.setdefault(name, phone)\n",
    "        print(\"연락처가 추가되었습니다.\")\n",
    "    elif cond == \"2\":\n",
    "        print(number)\n",
    "    elif cond == \"3\":\n",
    "        find = input(\"검색하실 성함을 입력해주세요: \")\n",
    "#       number.get(name, '없는 연락처입니다.')\n",
    "        print(f\"검색하신 {find}의 전화번호는 {number[find]}입니다.\")\n",
    "    elif cond == \"4\":\n",
    "        find = input(\"전화번호를 수정할 분의 성함을 입력해주세요: \")\n",
    "        fixed_num = input(\"수정할 전화번호를 입력해주세요: \")\n",
    "        number[find] = fixed_num\n",
    "        print(f\"{find}의 전화번호는 {number[find]}로 수정되었습니다.\")\n",
    "        # 연락처에 있는 경우만 (if name in contact)\n",
    "    elif cond == \"5\":\n",
    "        find = input(\"삭제할 전화번호의 성함을 입력해주세요: \")\n",
    "        del number[find]\n",
    "        print(f\"{find}의 전화번호는 삭제되었습니다.\")\n",
    "    elif cond == '6':\n",
    "        print(\"프로그램을 종료합니다.\")\n",
    "        break"
   ]
  },
  {
   "cell_type": "code",
   "execution_count": 2,
   "metadata": {},
   "outputs": [
    {
     "name": "stdout",
     "output_type": "stream",
     "text": [
      "------ 전화번호부 프로그램 ------\n",
      "1.추가   2.보기    3.검색   4.수정   5.삭제    9.종료\n",
      "메뉴를 선택해주세요(숫자 only)9\n",
      "프로그램을 종료합니다.\n"
     ]
    }
   ],
   "source": [
    "contact = {}\n",
    "\n",
    "while True:\n",
    "    print('------ 전화번호부 프로그램 ------')\n",
    "    print('1.추가   2.보기    3.검색   4.수정   5.삭제    9.종료')\n",
    "\n",
    "    menu = int(input('메뉴를 선택해주세요(숫자 only)'))\n",
    "\n",
    "    if menu == 1:\n",
    "        print('연락처를 추가합니다.')\n",
    "        new_name = input('이름 : ')\n",
    "        new_tel = input('전화번호 : ')\n",
    "        print(new_name, new_tel)\n",
    "        # contact[new_name] = new_tel # 덮어쓰기\n",
    "        contact.setdefault(new_name, new_tel)\n",
    "\n",
    "    elif menu == 2:\n",
    "        print('연락처를 조회합니다.')\n",
    "        # print(contact)\n",
    "        # print('='*10)\n",
    "        for name, tel in contact.items():\n",
    "            print(name, \":\", tel)\n",
    "\n",
    "    elif menu == 3:\n",
    "        print('연락처를 검색합니다.')\n",
    "        search_name = input('검색 이름: ')\n",
    "        # print(contact[search_name])\n",
    "        print(contact.get(search_name, '없는 연락처입니다.'))\n",
    "\n",
    "    elif menu == 4:\n",
    "        print('연락처를 수정합니다.')\n",
    "        mod_name = input('수정 이름 : ') # 연락처에 있을 경우에만 새전화번호를 묻는 것이.\n",
    "        if mod_name in contact:\n",
    "            mod_tel = input('새 전화번호 : ')\n",
    "            contact[mod_name] = mod_tel\n",
    "        else :\n",
    "            print('등록되지 않은 이름입니다.')\n",
    "\n",
    "    elif menu == 5:\n",
    "        print('연락처를 삭제합니다.')\n",
    "        del_name = input('삭제 이름 : ')\n",
    "        if del_name in contact:\n",
    "            del contact[del_name]\n",
    "        else :\n",
    "            print('등록되지 않은 이름입니다.')\n",
    "\n",
    "    elif menu == 9:\n",
    "        print('프로그램을 종료합니다.') \n",
    "        break\n",
    "\n",
    "    else :\n",
    "        print('잘못된 입력입니다.')"
   ]
  },
  {
   "cell_type": "code",
   "execution_count": null,
   "metadata": {},
   "outputs": [],
   "source": []
  },
  {
   "cell_type": "code",
   "execution_count": null,
   "metadata": {},
   "outputs": [],
   "source": []
  }
 ],
 "metadata": {
  "kernelspec": {
   "display_name": "Python 3 (ipykernel)",
   "language": "python",
   "name": "python3"
  },
  "language_info": {
   "codemirror_mode": {
    "name": "ipython",
    "version": 3
   },
   "file_extension": ".py",
   "mimetype": "text/x-python",
   "name": "python",
   "nbconvert_exporter": "python",
   "pygments_lexer": "ipython3",
   "version": "3.11.5"
  },
  "toc": {
   "base_numbering": 1,
   "nav_menu": {},
   "number_sections": true,
   "sideBar": true,
   "skip_h1_title": false,
   "title_cell": "Table of Contents",
   "title_sidebar": "Contents",
   "toc_cell": false,
   "toc_position": {},
   "toc_section_display": true,
   "toc_window_display": false
  },
  "varInspector": {
   "cols": {
    "lenName": 16,
    "lenType": 16,
    "lenVar": 40
   },
   "kernels_config": {
    "python": {
     "delete_cmd_postfix": "",
     "delete_cmd_prefix": "del ",
     "library": "var_list.py",
     "varRefreshCmd": "print(var_dic_list())"
    },
    "r": {
     "delete_cmd_postfix": ") ",
     "delete_cmd_prefix": "rm(",
     "library": "var_list.r",
     "varRefreshCmd": "cat(var_dic_list()) "
    }
   },
   "types_to_exclude": [
    "module",
    "function",
    "builtin_function_or_method",
    "instance",
    "_Feature"
   ],
   "window_display": false
  }
 },
 "nbformat": 4,
 "nbformat_minor": 2
}
