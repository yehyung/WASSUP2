{
 "cells": [
  {
   "cell_type": "markdown",
   "id": "77bd6db7",
   "metadata": {},
   "source": [
    "### 291 파일 쓰기\n",
    "바탕화면에 '매수종목1.txt' 파일을 생성한 후 다음과 같이 종목코드를 파일에 써보세요."
   ]
  },
  {
   "cell_type": "code",
   "execution_count": 19,
   "id": "f26be588",
   "metadata": {},
   "outputs": [],
   "source": [
    "f = open('매수종목1.txt', 'w')\n",
    "f.write('005930\\n')\n",
    "f.write('005380\\n')\n",
    "f.write('035420\\n')\n",
    "f.close()"
   ]
  },
  {
   "cell_type": "markdown",
   "id": "4b8e14c9",
   "metadata": {},
   "source": [
    "### 292 파일 쓰기\n",
    "바탕화면에 '매수종목2.txt' 파일을 생성한 후 다음과 같이 종목코드와 종목명을 파일에 써보세요."
   ]
  },
  {
   "cell_type": "code",
   "execution_count": 20,
   "id": "0427727e",
   "metadata": {},
   "outputs": [],
   "source": [
    "f = open('매수종목2.txt', 'w')\n",
    "f.write('005930 삼성전자\\n')\n",
    "f.write('005380 현대차\\n')\n",
    "f.write('035420 NAVER\\n')\n",
    "f.close()"
   ]
  },
  {
   "cell_type": "markdown",
   "id": "c2bf62f5",
   "metadata": {},
   "source": [
    "### 293 CSV 파일 쓰기*\n",
    "바탕화면에 '매수종목.csv' 파일을 생성한 후 다음과 같이 종목코드와 종목명을 파일에 써보세요. 인코딩은 'cp949'를 사용해야합니다."
   ]
  },
  {
   "cell_type": "code",
   "execution_count": 21,
   "id": "61c5d202",
   "metadata": {},
   "outputs": [],
   "source": [
    "import csv\n",
    "f = open('매수종목.csv', mode=\"wt\", encoding='cp949')\n",
    "writer = csv.writer(f)\n",
    "writer.writerow(['종목명', '종목코드', 'PER'])\n",
    "writer.writerow(['삼성전자', '005930', '15.79'])\n",
    "writer.writerow(['NAVER', '035420', '55.82'])\n",
    "f.close()"
   ]
  },
  {
   "cell_type": "markdown",
   "id": "e203fa12",
   "metadata": {},
   "source": [
    "### 294 파일 읽기\n",
    "바탕화면에 생성한 '매수종목1.txt' 파일을 읽은 후 종목코드를 리스트에 저장해보세요."
   ]
  },
  {
   "cell_type": "code",
   "execution_count": 24,
   "id": "62a482ea",
   "metadata": {},
   "outputs": [],
   "source": [
    "f = open('매수종목1.txt', 'r')\n",
    "lines = f.readlines()\n",
    "codes = []\n",
    "for line in lines:\n",
    "    codes.append(line)\n",
    "f.close()"
   ]
  },
  {
   "cell_type": "code",
   "execution_count": 30,
   "id": "dd387986",
   "metadata": {},
   "outputs": [
    {
     "name": "stdout",
     "output_type": "stream",
     "text": [
      "['005930', '005380', '035420']\n"
     ]
    }
   ],
   "source": [
    "print(codes)"
   ]
  },
  {
   "cell_type": "markdown",
   "id": "15733304",
   "metadata": {},
   "source": [
    "### 295 파일 읽기\n",
    "바탕화면에 생성한 '매수종목2.txt' 파일을 읽은 후 종목코드와 종목명을 딕셔너리로 저장해보세요. 종목명을 key로 종목명을 value로 저장합니다."
   ]
  },
  {
   "cell_type": "code",
   "execution_count": 45,
   "id": "ab531a4f",
   "metadata": {},
   "outputs": [],
   "source": [
    "f = open('매수종목2.txt', 'r')\n",
    "code_name = {}\n",
    "lines = f.readlines()\n",
    "for line in lines:\n",
    "    code, name = line.strip().split()\n",
    "    code_name[code] = name\n",
    "f.close()"
   ]
  },
  {
   "cell_type": "code",
   "execution_count": 46,
   "id": "bbffd9e1",
   "metadata": {},
   "outputs": [
    {
     "name": "stdout",
     "output_type": "stream",
     "text": [
      "{'005930': '삼성전자', '005380': '현대차', '035420': 'NAVER'}\n"
     ]
    }
   ],
   "source": [
    "print(code_name)"
   ]
  },
  {
   "cell_type": "markdown",
   "id": "a67f1628",
   "metadata": {},
   "source": [
    "### 296 예외처리\n",
    "문자열 PER (Price to Earning Ratio) 값을 실수로 변환할 때 에러가 발생합니다. 예외처리를 통해 에러가 발생하는 PER은 0으로 출력하세요.\n",
    "\n"
   ]
  },
  {
   "cell_type": "code",
   "execution_count": 51,
   "id": "a9f47751",
   "metadata": {},
   "outputs": [
    {
     "name": "stdout",
     "output_type": "stream",
     "text": [
      "10.31\n",
      "0\n",
      "8.0\n"
     ]
    }
   ],
   "source": [
    "per = [\"10.31\", \"\", \"8.00\"]\n",
    "\n",
    "for i in per:\n",
    "    try:\n",
    "        print(float(i))\n",
    "    except:\n",
    "        print(0)"
   ]
  },
  {
   "cell_type": "markdown",
   "id": "bdcd4ea7",
   "metadata": {},
   "source": [
    "### 297 예외처리 및 리스트에 저장\n",
    "문자열로 표현된 PER 값을 실수로 변환한 후 이를 새로운 리스트에 저장해보세요."
   ]
  },
  {
   "cell_type": "code",
   "execution_count": 53,
   "id": "b4ab42f1",
   "metadata": {},
   "outputs": [],
   "source": [
    "per = [\"10.31\", \"\", \"8.00\"]\n",
    "new_per = []\n",
    "\n",
    "for i in per:\n",
    "    try:\n",
    "        new_per.append(float(i))\n",
    "    except:\n",
    "        new_per.append(0)"
   ]
  },
  {
   "cell_type": "code",
   "execution_count": 54,
   "id": "2b265e0f",
   "metadata": {},
   "outputs": [
    {
     "data": {
      "text/plain": [
       "[10.31, 0, 8.0]"
      ]
     },
     "execution_count": 54,
     "metadata": {},
     "output_type": "execute_result"
    }
   ],
   "source": [
    "new_per"
   ]
  },
  {
   "cell_type": "markdown",
   "id": "de7f925b",
   "metadata": {},
   "source": [
    "### 298 특정 예외만 처리하기\n",
    "어떤 값을 0으로 나누면 ZeroDivisionError 에러가 발생합니다. try ~ except로 모든 에러에 대해 예외처리하지 말고 ZeroDivisionError 에러만 예외처리해보세요."
   ]
  },
  {
   "cell_type": "code",
   "execution_count": 55,
   "id": "af210025",
   "metadata": {},
   "outputs": [
    {
     "name": "stdout",
     "output_type": "stream",
     "text": [
      "0으로 나누면 안됩니다.\n"
     ]
    }
   ],
   "source": [
    "try:\n",
    "    4/0\n",
    "except ZeroDivisionError:\n",
    "    print('0으로 나누면 안됩니다.')"
   ]
  },
  {
   "cell_type": "markdown",
   "id": "231f04db",
   "metadata": {},
   "source": [
    "### 299 예외의 메시지 출력하기\n",
    "다음과 같은 코드 구조를 사용하면 예외 발생 시 에러 메시지를 변수로 바인딩할 수 있습니다."
   ]
  },
  {
   "cell_type": "code",
   "execution_count": null,
   "id": "12776828",
   "metadata": {},
   "outputs": [],
   "source": [
    "try:\n",
    "    실행코드\n",
    "except 예외 as 변수:\n",
    "    예외처리코드 "
   ]
  },
  {
   "cell_type": "markdown",
   "id": "d39e6e90",
   "metadata": {},
   "source": [
    "리스트의 인덱싱에 대해 에러를 출력해보세요."
   ]
  },
  {
   "cell_type": "code",
   "execution_count": 62,
   "id": "6a5bb137",
   "metadata": {},
   "outputs": [
    {
     "name": "stdout",
     "output_type": "stream",
     "text": [
      "1\n",
      "2\n",
      "3\n",
      "list index out of range\n",
      "list index out of range\n"
     ]
    }
   ],
   "source": [
    "data = [1, 2, 3]\n",
    "\n",
    "for i in range(5):\n",
    "    try:\n",
    "        print(data[i])\n",
    "    except IndexError as a:\n",
    "        print(a)\n"
   ]
  },
  {
   "cell_type": "markdown",
   "id": "c84965cf",
   "metadata": {},
   "source": [
    "### 300 try, except, else, finally 구조 사용해보기*\n",
    "파이썬 예외처리는 다음과 같은 구조를 가질 수 있습니다.\n",
    "\n"
   ]
  },
  {
   "cell_type": "code",
   "execution_count": null,
   "id": "e18eb1db",
   "metadata": {},
   "outputs": [],
   "source": [
    "try:\n",
    "    실행 코드\n",
    "except:\n",
    "    예외가 발생했을 때 수행할 코드\n",
    "else:\n",
    "    예외가 발생하지 않았을 때 수행할 코드\n",
    "finally:\n",
    "    예외 발생 여부와 상관없이 항상 수행할 코드\n"
   ]
  },
  {
   "cell_type": "markdown",
   "id": "7d4c6fe2",
   "metadata": {},
   "source": [
    "아래의 코드에 대해서 예외처리를 사용하고 try, except, else, finally에 적당한 코드를 작성해봅시다. else와 finally는 적당한 문구를 print하시면 됩니다."
   ]
  },
  {
   "cell_type": "code",
   "execution_count": 68,
   "id": "c95782f0",
   "metadata": {},
   "outputs": [
    {
     "name": "stdout",
     "output_type": "stream",
     "text": [
      "10.31\n",
      "clean data\n",
      "변환 완료\n",
      "0\n",
      "변환 완료\n",
      "8.0\n",
      "clean data\n",
      "변환 완료\n"
     ]
    }
   ],
   "source": [
    "per = [\"10.31\", \"\", \"8.00\"]\n",
    "\n",
    "for i in per:\n",
    "    try:\n",
    "        print(float(i))\n",
    "    except:\n",
    "        print(0)\n",
    "    else:\n",
    "        print(\"clean data\")\n",
    "    finally:\n",
    "        print(\"변환 완료\")"
   ]
  },
  {
   "cell_type": "code",
   "execution_count": null,
   "id": "3a81d41f",
   "metadata": {},
   "outputs": [],
   "source": []
  }
 ],
 "metadata": {
  "kernelspec": {
   "display_name": "Python 3 (ipykernel)",
   "language": "python",
   "name": "python3"
  },
  "language_info": {
   "codemirror_mode": {
    "name": "ipython",
    "version": 3
   },
   "file_extension": ".py",
   "mimetype": "text/x-python",
   "name": "python",
   "nbconvert_exporter": "python",
   "pygments_lexer": "ipython3",
   "version": "3.11.5"
  }
 },
 "nbformat": 4,
 "nbformat_minor": 5
}
