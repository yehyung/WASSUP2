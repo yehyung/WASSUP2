{
 "cells": [
  {
   "cell_type": "markdown",
   "id": "6fb016ba",
   "metadata": {},
   "source": [
    "### 251 클래스, 객체, 인스턴스\n",
    "클래스와 객체에 대해 설명해봅시다."
   ]
  },
  {
   "cell_type": "markdown",
   "id": "70da4251",
   "metadata": {},
   "source": [
    "클래스는 틀, 객체는 틀로 만든 결과물"
   ]
  },
  {
   "cell_type": "markdown",
   "id": "56b3eb01",
   "metadata": {},
   "source": [
    "### 252 클래스 정의\n",
    "비어있는 사람 (Human) 클래스를 \"정의\" 해보세요."
   ]
  },
  {
   "cell_type": "code",
   "execution_count": 1,
   "id": "6b81c3c3",
   "metadata": {},
   "outputs": [],
   "source": [
    "class Human:\n",
    "    pass"
   ]
  },
  {
   "cell_type": "markdown",
   "id": "e5d852f8",
   "metadata": {},
   "source": [
    "### 253 인스턴스 생성\n",
    "사람 (Human) 클래스의 인스턴스를 \"생성\" 하고 이를 areum 변수로 바인딩해보세요."
   ]
  },
  {
   "cell_type": "code",
   "execution_count": 2,
   "id": "a837d92e",
   "metadata": {},
   "outputs": [],
   "source": [
    "class Human:\n",
    "    pass\n",
    "areum = Human()"
   ]
  },
  {
   "cell_type": "markdown",
   "id": "4652c4ee",
   "metadata": {},
   "source": [
    "### 254 클래스 생성자-1\n",
    "사람 (Human) 클래스에 \"응애응애\"를 출력하는 생성자를 추가하세요."
   ]
  },
  {
   "cell_type": "code",
   "execution_count": 7,
   "id": "ed66ef2a",
   "metadata": {},
   "outputs": [],
   "source": [
    "class Human:\n",
    "    def __init__(self):\n",
    "        print(\"응애응애\")"
   ]
  },
  {
   "cell_type": "code",
   "execution_count": 8,
   "id": "bf9e66fc",
   "metadata": {},
   "outputs": [
    {
     "name": "stdout",
     "output_type": "stream",
     "text": [
      "응애응애\n"
     ]
    }
   ],
   "source": [
    "areum = Human()"
   ]
  },
  {
   "cell_type": "markdown",
   "id": "334b000c",
   "metadata": {},
   "source": [
    "### 255 클래스 생성자-2\n",
    "사람 (Human) 클래스에 (이름, 나이, 성별)을 받는 생성자를 추가하세요."
   ]
  },
  {
   "cell_type": "code",
   "execution_count": 9,
   "id": "b4197950",
   "metadata": {},
   "outputs": [],
   "source": [
    "class Human:\n",
    "    def __init__(self, name, age, sex):\n",
    "        self.name = name\n",
    "        self.age = age\n",
    "        self.sex = sex"
   ]
  },
  {
   "cell_type": "code",
   "execution_count": 12,
   "id": "0a36d9ec",
   "metadata": {},
   "outputs": [
    {
     "name": "stdout",
     "output_type": "stream",
     "text": [
      "아름 25 여자\n"
     ]
    }
   ],
   "source": [
    "areum = Human(\"아름\", 25, \"여자\")\n",
    "print(areum.name, areum.age, areum.sex)"
   ]
  },
  {
   "cell_type": "markdown",
   "id": "9abea870",
   "metadata": {},
   "source": [
    "### 256 인스턴스 속성에 접근\n",
    "255에서 생성한 인스턴스의 이름, 나이, 성별을 출력하세요. 인스턴스 변수에 접근하여 값을 출력하면 됩니다."
   ]
  },
  {
   "cell_type": "code",
   "execution_count": 15,
   "id": "57521ed1",
   "metadata": {},
   "outputs": [
    {
     "name": "stdout",
     "output_type": "stream",
     "text": [
      "이름: 아름, 나이: 25, 성별: 여자\n"
     ]
    }
   ],
   "source": [
    "print(f\"이름: {areum.name}, 나이: {areum.age}, 성별: {areum.sex}\")"
   ]
  },
  {
   "cell_type": "markdown",
   "id": "6e1a6b67",
   "metadata": {},
   "source": [
    "### 257 클래스 메소드 - 1\n",
    "사람 (Human) 클래스에서 이름, 나이, 성별을 출력하는 who() 메소드를 추가하세요."
   ]
  },
  {
   "cell_type": "code",
   "execution_count": 26,
   "id": "52b629d8",
   "metadata": {},
   "outputs": [],
   "source": [
    "class Human:\n",
    "    def __init__(self, name, age, sex):\n",
    "        self.name = name\n",
    "        self.age = age\n",
    "        self.sex = sex\n",
    "    def who(self):\n",
    "        print(f\"이름: {self.name}, 나이: {self.age}, 성별: {self.sex}\")"
   ]
  },
  {
   "cell_type": "code",
   "execution_count": 27,
   "id": "a1bce25a",
   "metadata": {},
   "outputs": [
    {
     "name": "stdout",
     "output_type": "stream",
     "text": [
      "이름: 조아름, 나이: 25, 성별: 여자\n"
     ]
    }
   ],
   "source": [
    "areum = Human('조아름', 25, '여자')\n",
    "areum.who()"
   ]
  },
  {
   "cell_type": "markdown",
   "id": "6a4366ea",
   "metadata": {},
   "source": [
    "### 258 클래스 메소드 - 2\n",
    "사람 (Human) 클래스에 (이름, 나이, 성별)을 받는 setInfo 메소드를 추가하세요."
   ]
  },
  {
   "cell_type": "code",
   "execution_count": 28,
   "id": "06d5e58e",
   "metadata": {},
   "outputs": [],
   "source": [
    "class Human:\n",
    "    def __init__(self, name, age, sex):\n",
    "        self.name = name\n",
    "        self.age = age\n",
    "        self.sex = sex\n",
    "    def who(self):\n",
    "        print(f\"이름: {self.name}, 나이: {self.age}, 성별: {self.sex}\")\n",
    "    def setInfo(self, name, age, sex):\n",
    "        self.name = name\n",
    "        self.age = age\n",
    "        self.sex = sex"
   ]
  },
  {
   "cell_type": "code",
   "execution_count": 31,
   "id": "8b008bbb",
   "metadata": {},
   "outputs": [
    {
     "name": "stdout",
     "output_type": "stream",
     "text": [
      "이름: 불명, 나이: 미상, 성별: 모름\n",
      "이름: 아름, 나이: 25, 성별: 여자\n"
     ]
    }
   ],
   "source": [
    "areum = Human(\"불명\", \"미상\", \"모름\")\n",
    "areum.who()      # Human.who(areum)\n",
    "\n",
    "areum.setInfo(\"아름\", 25, \"여자\")\n",
    "areum.who()      # Human.who(areum)"
   ]
  },
  {
   "cell_type": "markdown",
   "id": "f7d0e911",
   "metadata": {},
   "source": [
    "### 259 클래스 소멸자\n",
    "사람 (human) 클래스에 \"나의 죽음을 알리지 말라\"를 출력하는 소멸자를 추가하세요."
   ]
  },
  {
   "cell_type": "code",
   "execution_count": 32,
   "id": "bb15debf",
   "metadata": {},
   "outputs": [],
   "source": [
    "class Human:\n",
    "    def __init__(self, name, age, sex):\n",
    "        self.name = name\n",
    "        self.age = age\n",
    "        self.sex = sex\n",
    "    def who(self):\n",
    "        print(f\"이름: {self.name}, 나이: {self.age}, 성별: {self.sex}\")\n",
    "    def setInfo(self, name, age, sex):\n",
    "        self.name = name\n",
    "        self.age = age\n",
    "        self.sex = sex\n",
    "    def __del__(self):\n",
    "        print(\"나의 죽음을 알리지 말라\")"
   ]
  },
  {
   "cell_type": "code",
   "execution_count": 33,
   "id": "e7ee236d",
   "metadata": {},
   "outputs": [
    {
     "name": "stdout",
     "output_type": "stream",
     "text": [
      "나의 죽음을 알리지 말라\n"
     ]
    }
   ],
   "source": [
    "areum = Human(\"아름\", 25, \"여자\")\n",
    "del areum"
   ]
  },
  {
   "cell_type": "markdown",
   "id": "acb98caf",
   "metadata": {},
   "source": [
    "### 260 에러의 원인\n",
    "아래와 같은 에러가 발생한 원인에 대해 설명하세요."
   ]
  },
  {
   "cell_type": "code",
   "execution_count": 37,
   "id": "bb29195c",
   "metadata": {},
   "outputs": [
    {
     "ename": "TypeError",
     "evalue": "OMG.print() takes 0 positional arguments but 1 was given",
     "output_type": "error",
     "traceback": [
      "\u001b[1;31m---------------------------------------------------------------------------\u001b[0m",
      "\u001b[1;31mTypeError\u001b[0m                                 Traceback (most recent call last)",
      "Cell \u001b[1;32mIn[37], line 6\u001b[0m\n\u001b[0;32m      3\u001b[0m         \u001b[38;5;28mprint\u001b[39m(\u001b[38;5;124m\"\u001b[39m\u001b[38;5;124mOh my god\u001b[39m\u001b[38;5;124m\"\u001b[39m)\n\u001b[0;32m      5\u001b[0m myStock \u001b[38;5;241m=\u001b[39m OMG()\n\u001b[1;32m----> 6\u001b[0m myStock\u001b[38;5;241m.\u001b[39mprint()\n",
      "\u001b[1;31mTypeError\u001b[0m: OMG.print() takes 0 positional arguments but 1 was given"
     ]
    }
   ],
   "source": [
    "class OMG : \n",
    "    def print() :\n",
    "        print(\"Oh my god\")\n",
    "\n",
    "myStock = OMG()\n",
    "myStock.print()\n",
    "\n",
    "# 매개변수 self 없이 myStock을 인수로 전달했기 때문임"
   ]
  },
  {
   "cell_type": "markdown",
   "id": "1d0dd113",
   "metadata": {},
   "source": [
    "### 261 Stock 클래스 생성\n",
    "주식 종목에 대한 정보를 저장하는 Stock 클래스를 정의해보세요. 클래스는 속성과 메서드를 갖고 있지 않습니다."
   ]
  },
  {
   "cell_type": "code",
   "execution_count": 38,
   "id": "4ac7c1bf",
   "metadata": {},
   "outputs": [],
   "source": [
    "class Stock:\n",
    "    pass"
   ]
  },
  {
   "cell_type": "markdown",
   "id": "3a989ff4",
   "metadata": {},
   "source": [
    "### 262 생성자\n",
    "Stock 클래스의 객체가 생성될 때 종목명과 종목코드를 입력 받을 수 있도록 생성자를 정의해보세요."
   ]
  },
  {
   "cell_type": "code",
   "execution_count": 41,
   "id": "b91883c1",
   "metadata": {},
   "outputs": [],
   "source": [
    "class Stock:\n",
    "    def __init__(self, name, code):\n",
    "        self.name = name\n",
    "        self.code = code"
   ]
  },
  {
   "cell_type": "code",
   "execution_count": 44,
   "id": "4047ceea",
   "metadata": {},
   "outputs": [
    {
     "data": {
      "text/plain": [
       "('삼성전자', '005930')"
      ]
     },
     "execution_count": 44,
     "metadata": {},
     "output_type": "execute_result"
    }
   ],
   "source": [
    "삼성 = Stock(\"삼성전자\", \"005930\")\n",
    "삼성.name, 삼성.code"
   ]
  },
  {
   "cell_type": "markdown",
   "id": "0d4c662a",
   "metadata": {},
   "source": [
    "### 263 메서드\n",
    "객체에 종목명을 입력할 수 있는 set_name 메서드를 추가해보세요."
   ]
  },
  {
   "cell_type": "code",
   "execution_count": 49,
   "id": "a1c2b917",
   "metadata": {},
   "outputs": [],
   "source": [
    "class Stock:\n",
    "    def __init__(self, name, code):\n",
    "        self.name = name\n",
    "        self.code = code\n",
    "    def set_name (self, name):\n",
    "        self.name = name"
   ]
  },
  {
   "cell_type": "code",
   "execution_count": 51,
   "id": "194ed403",
   "metadata": {},
   "outputs": [
    {
     "data": {
      "text/plain": [
       "'삼성전자'"
      ]
     },
     "execution_count": 51,
     "metadata": {},
     "output_type": "execute_result"
    }
   ],
   "source": [
    "a = Stock(None, None)\n",
    "a.set_name(\"삼성전자\")\n",
    "a.name"
   ]
  },
  {
   "cell_type": "markdown",
   "id": "bbe51007",
   "metadata": {},
   "source": [
    "### 264 메서드\n",
    "객체에 종목코드를 입력할 수 있는 set_code 메서드를 추가해보세요."
   ]
  },
  {
   "cell_type": "code",
   "execution_count": 52,
   "id": "476aa8ae",
   "metadata": {},
   "outputs": [],
   "source": [
    "class Stock:\n",
    "    def __init__(self, name, code):\n",
    "        self.name = name\n",
    "        self.code = code\n",
    "    def set_name(self, name):\n",
    "        self.name = name\n",
    "    def  set_code(self, code):\n",
    "        self.code = code"
   ]
  },
  {
   "cell_type": "code",
   "execution_count": 53,
   "id": "a0ee2050",
   "metadata": {},
   "outputs": [
    {
     "data": {
      "text/plain": [
       "'005930'"
      ]
     },
     "execution_count": 53,
     "metadata": {},
     "output_type": "execute_result"
    }
   ],
   "source": [
    "a = Stock(None, None)\n",
    "a.set_code(\"005930\")\n",
    "a.code"
   ]
  },
  {
   "cell_type": "markdown",
   "id": "c4a32805",
   "metadata": {},
   "source": [
    "### 265 메서드\n",
    "종목명과 종목코드를 리턴하는 get_name, get_code 메서드를 추가하세요. 해당 메서드를 사용하여 종목명과 종목코드를 얻고 이를 출력해보세요."
   ]
  },
  {
   "cell_type": "code",
   "execution_count": 65,
   "id": "3d80b4f7",
   "metadata": {},
   "outputs": [],
   "source": [
    "class Stock:\n",
    "    def __init__(self, name, code):\n",
    "        self.name = name\n",
    "        self.code = code\n",
    "        \n",
    "    def set_name(self, name):\n",
    "        self.name = name\n",
    "        \n",
    "    def  set_code(self, code):\n",
    "        self.code = code\n",
    "        \n",
    "    def get_name(self):\n",
    "        return self.name\n",
    "    \n",
    "    def get_code(self):\n",
    "        return self.code"
   ]
  },
  {
   "cell_type": "code",
   "execution_count": 66,
   "id": "e5ded9ec",
   "metadata": {},
   "outputs": [
    {
     "data": {
      "text/plain": [
       "('삼성전자', '005930')"
      ]
     },
     "execution_count": 66,
     "metadata": {},
     "output_type": "execute_result"
    }
   ],
   "source": [
    "삼성 = Stock(\"삼성전자\", \"005930\")\n",
    "삼성.get_name(), 삼성.get_code()"
   ]
  },
  {
   "cell_type": "markdown",
   "id": "c6f93cd1",
   "metadata": {},
   "source": [
    "### 266 객체의 속성값 업데이트\n",
    "생성자에서 종목명, 종목코드, PER, PBR, 배당수익률을 입력 받을 수 있도록 생성자를 수정하세요. PER, PBR, 배당수익률은 float 타입입니다."
   ]
  },
  {
   "cell_type": "code",
   "execution_count": 67,
   "id": "08f14a42",
   "metadata": {},
   "outputs": [],
   "source": [
    "class Stock:\n",
    "    def __init__(self, name, code, per, pbr, dividend):\n",
    "        self.name = name\n",
    "        self.code = code\n",
    "        self.per = per\n",
    "        self.pbr = pbr\n",
    "        self.dividend = dividend\n",
    "        \n",
    "    def set_name(self, name):\n",
    "        self.name = name\n",
    "        \n",
    "    def  set_code(self, code):\n",
    "        self.code = code\n",
    "        \n",
    "    def get_name(self):\n",
    "        return self.name\n",
    "    \n",
    "    def get_code(self):\n",
    "        return self.code"
   ]
  },
  {
   "cell_type": "markdown",
   "id": "ff43afee",
   "metadata": {},
   "source": [
    "### 267 객체 생성\n",
    "266번에서 정의한 생성자를 통해 다음 정보를 갖는 객체를 생성해보세요."
   ]
  },
  {
   "cell_type": "code",
   "execution_count": 68,
   "id": "d6a3f54d",
   "metadata": {},
   "outputs": [
    {
     "ename": "AttributeError",
     "evalue": "'Stock' object has no attribute 'earn'",
     "output_type": "error",
     "traceback": [
      "\u001b[1;31m---------------------------------------------------------------------------\u001b[0m",
      "\u001b[1;31mAttributeError\u001b[0m                            Traceback (most recent call last)",
      "Cell \u001b[1;32mIn[68], line 2\u001b[0m\n\u001b[0;32m      1\u001b[0m s \u001b[38;5;241m=\u001b[39m Stock(\u001b[38;5;124m'\u001b[39m\u001b[38;5;124m삼성전자\u001b[39m\u001b[38;5;124m'\u001b[39m, \u001b[38;5;124m'\u001b[39m\u001b[38;5;124m005930\u001b[39m\u001b[38;5;124m'\u001b[39m, \u001b[38;5;241m15.79\u001b[39m, \u001b[38;5;241m1.33\u001b[39m, \u001b[38;5;241m2.83\u001b[39m)\n\u001b[1;32m----> 2\u001b[0m \u001b[38;5;28mprint\u001b[39m(s\u001b[38;5;241m.\u001b[39mearn)\n",
      "\u001b[1;31mAttributeError\u001b[0m: 'Stock' object has no attribute 'earn'"
     ]
    }
   ],
   "source": [
    "s = Stock('삼성전자', '005930', 15.79, 1.33, 2.83)\n",
    "print(s.earn)"
   ]
  },
  {
   "cell_type": "markdown",
   "id": "ab44eadf",
   "metadata": {},
   "source": [
    "### 268 객체의 속성 수정\n",
    "PER, PBR, 배당수익률은 변경될 수 있는 값입니다. 이 값을 변경할 때 사용하는 set_per, set_pbr, set_dividend 메서드를 추가하세요."
   ]
  },
  {
   "cell_type": "code",
   "execution_count": 76,
   "id": "caee9538",
   "metadata": {},
   "outputs": [],
   "source": [
    "class Stock:\n",
    "    def __init__(self, name, code, per, pbr, dividend):\n",
    "        self.name = name\n",
    "        self.code = code\n",
    "        self.per = per\n",
    "        self.pbr = pbr\n",
    "        self.dividend = dividend\n",
    "        \n",
    "    def set_name(self, name):\n",
    "        self.name = name\n",
    "        \n",
    "    def set_code(self, code):\n",
    "        self.code = code\n",
    "        \n",
    "    def get_name(self):\n",
    "        return self.name\n",
    "    \n",
    "    def get_code(self):\n",
    "        return self.code\n",
    "            \n",
    "    def set_per(self, per):\n",
    "        self.per = per\n",
    "        \n",
    "    def set_pbr(self, pbr):\n",
    "        self.pbr = pbr\n",
    "        \n",
    "    def set_dividend(self, dividend):\n",
    "        self.dividend = dividend"
   ]
  },
  {
   "cell_type": "markdown",
   "id": "e6564884",
   "metadata": {},
   "source": [
    "### 269 객체의 속성 수정\n",
    "267번에서 생성한 객체에 set_per 메서드를 호출하여 per 값을 12.75로 수정해보세요."
   ]
  },
  {
   "cell_type": "code",
   "execution_count": 73,
   "id": "75e51f8a",
   "metadata": {
    "scrolled": true
   },
   "outputs": [
    {
     "name": "stdout",
     "output_type": "stream",
     "text": [
      "12.75\n"
     ]
    }
   ],
   "source": [
    "삼성 = Stock(\"삼성전자\", \"005930\", 15.79, 1.33, 2.83)\n",
    "삼성.set_per(12.75)\n",
    "print(삼성.per)"
   ]
  },
  {
   "cell_type": "markdown",
   "id": "f738054b",
   "metadata": {},
   "source": [
    "### 270 여러 종목의 객체 생성\n",
    "아래의 표를 참조하여 3종목에 대해 객체를 생성하고 이를 파이썬 리스트에 저장하세요. 파이썬 리스트에 저장된 각 종목에 대해 for 루프를 통해 종목코드와 PER을 출력해보세요."
   ]
  },
  {
   "cell_type": "code",
   "execution_count": 78,
   "id": "9e27e5c7",
   "metadata": {},
   "outputs": [
    {
     "name": "stdout",
     "output_type": "stream",
     "text": [
      "005930 15.79\n",
      "005380 8.7\n",
      "066570 317.34\n"
     ]
    }
   ],
   "source": [
    "삼성 = Stock(\"삼성전자\", \"005930\", 15.79, 1.33, 2.83)\n",
    "현대차 = Stock(\"현대차\", \"005380\", 8.70, 0.35, 4.27)\n",
    "LG전자 = Stock(\"LG전자\", \"066570\", 317.34, 0.69, 1.37)\n",
    "\n",
    "stocks = [삼성, 현대차, LG전자]\n",
    "# 종목.append(삼성)\n",
    "# 종목.append(현대차)\n",
    "# 종목.append(LG전자)\n",
    "\n",
    "for i in stocks:\n",
    "    print(i.code, i.per)"
   ]
  },
  {
   "cell_type": "markdown",
   "id": "fbb48464",
   "metadata": {},
   "source": [
    "### 271 Account 클래스***\n",
    "은행에 가서 계좌를 개설하면 은행이름, 예금주, 계좌번호, 잔액이 설정됩니다. Account 클래스를 생성한 후 생성자를 구현해보세요. 생성자에서는 예금주와 초기 잔액만 입력 받습니다. 은행이름은 SC은행으로 계좌번호는 3자리-2자리-6자리 형태로 랜덤하게 생성됩니다."
   ]
  },
  {
   "cell_type": "code",
   "execution_count": 259,
   "id": "4a12e8c2",
   "metadata": {},
   "outputs": [],
   "source": [
    "import random\n",
    "\n",
    "class Account:\n",
    "    def __init__(self, name, balance):\n",
    "        self.bank = \"SC은행\"\n",
    "        self.name = name\n",
    "        self.account_number = str(random.randint(0,999)).zfill(3)+\"-\"+str(random.randint(0, 99)).zfill(2)+\"-\"+str(random.randint(0, 999999)).zfill(6)\n",
    "        self.balance = balance"
   ]
  },
  {
   "cell_type": "code",
   "execution_count": 297,
   "id": "bed83bff",
   "metadata": {},
   "outputs": [
    {
     "name": "stdout",
     "output_type": "stream",
     "text": [
      "김민수\n",
      "100\n",
      "SC은행\n",
      "970-08-620459\n"
     ]
    }
   ],
   "source": [
    "kim = Account(\"김민수\", 100)\n",
    "print(kim.name)\n",
    "print(kim.balance)\n",
    "print(kim.bank)\n",
    "print(kim.account_number)"
   ]
  },
  {
   "cell_type": "markdown",
   "id": "4fd92a85",
   "metadata": {},
   "source": [
    "### 272 클래스 변수***\n",
    "클래스 변수를 사용해서 Account 클래스로부터 생성된 계좌 객체의 개수를 저장하세요."
   ]
  },
  {
   "cell_type": "code",
   "execution_count": 303,
   "id": "10af536d",
   "metadata": {},
   "outputs": [],
   "source": [
    "import random\n",
    "\n",
    "class Account:\n",
    "    \n",
    "    account_count = 0\n",
    "    \n",
    "    def __init__(self, name, balance):\n",
    "        self.bank = \"SC은행\"\n",
    "        self.name = name\n",
    "        self.account_number = str(random.randint(0,999)).zfill(3)+\"-\"+str(random.randint(0, 99)).zfill(2)+\"-\"+str(random.randint(0, 999999)).zfill(6)\n",
    "        self.balance = balance\n",
    "        Account.account_count += 1"
   ]
  },
  {
   "cell_type": "code",
   "execution_count": 380,
   "id": "9c60080a",
   "metadata": {},
   "outputs": [
    {
     "name": "stdout",
     "output_type": "stream",
     "text": [
      "153\n",
      "154\n"
     ]
    }
   ],
   "source": [
    "kim = Account(\"김민수\", 100)\n",
    "print(Account.account_count)\n",
    "lee = Account(\"이민수\", 100)\n",
    "print(Account.account_count)"
   ]
  },
  {
   "cell_type": "markdown",
   "id": "a98d16dc",
   "metadata": {},
   "source": [
    "### 273 클래스 변수 출력***\n",
    "Account 클래스로부터 생성된 계좌의 개수를 출력하는 get_account_num() 메서드를 추가하세요."
   ]
  },
  {
   "cell_type": "markdown",
   "id": "dc539b56",
   "metadata": {},
   "source": [
    "데코레이터 ***"
   ]
  },
  {
   "cell_type": "code",
   "execution_count": 416,
   "id": "562d456e",
   "metadata": {},
   "outputs": [],
   "source": [
    "import random\n",
    "\n",
    "class Account:\n",
    "    \n",
    "    account_count = 0\n",
    "    \n",
    "    def __init__(self, name, balance):\n",
    "        self.bank = \"SC은행\"\n",
    "        self.name = name\n",
    "        self.account_number = str(random.randint(0,999)).zfill(3)+\"-\"+str(random.randint(0, 99)).zfill(2)+\"-\"+str(random.randint(0, 999999)).zfill(6)\n",
    "        self.balance = balance\n",
    "        Account.account_count += 1\n",
    "    def get_account_num(cls):\n",
    "        print(cls.account_count)"
   ]
  },
  {
   "cell_type": "code",
   "execution_count": 417,
   "id": "9778041c",
   "metadata": {},
   "outputs": [
    {
     "name": "stdout",
     "output_type": "stream",
     "text": [
      "2\n"
     ]
    }
   ],
   "source": [
    "kim = Account(\"김민수\", 100)\n",
    "lee = Account(\"이민수\", 100)\n",
    "kim.get_account_num()"
   ]
  },
  {
   "cell_type": "markdown",
   "id": "d8a21416",
   "metadata": {},
   "source": [
    "### 274 입금 메서드*\n",
    "Account 클래스에 입금을 위한 deposit 메서드를 추가하세요. 입금은 최소 1원 이상만 가능합니다."
   ]
  },
  {
   "cell_type": "code",
   "execution_count": 419,
   "id": "e2c56a82",
   "metadata": {},
   "outputs": [],
   "source": [
    "import random\n",
    "\n",
    "class Account:\n",
    "    \n",
    "    account_count = 0\n",
    "    \n",
    "    def __init__(self, name, balance):\n",
    "        self.bank = \"SC은행\"\n",
    "        self.name = name\n",
    "        self.account_number = str(random.randint(0,999)).zfill(3)+\"-\"+str(random.randint(0, 99)).zfill(2)+\"-\"+str(random.randint(0, 999999)).zfill(6)\n",
    "        self.balance = balance\n",
    "        Account.account_count += 1\n",
    "    def get_account_num(cls):\n",
    "        print(cls.account_count)\n",
    "    def deposit(self, money):\n",
    "        if money>1:\n",
    "            self.balance += money"
   ]
  },
  {
   "cell_type": "markdown",
   "id": "33b96e37",
   "metadata": {},
   "source": [
    "### 275 출금 메서드\n",
    "Account 클래스에 출금을 위한 withdraw 메서드를 추가하세요. 출금은 계좌의 잔고 이상으로 출금할 수는 없습니다."
   ]
  },
  {
   "cell_type": "code",
   "execution_count": 420,
   "id": "b22e400b",
   "metadata": {},
   "outputs": [],
   "source": [
    "import random\n",
    "\n",
    "class Account:\n",
    "    \n",
    "    account_count = 0\n",
    "    \n",
    "    def __init__(self, name, balance):\n",
    "        self.bank = \"SC은행\"\n",
    "        self.name = name\n",
    "        self.account_number = str(random.randint(0,999)).zfill(3)+\"-\"+str(random.randint(0, 99)).zfill(2)+\"-\"+str(random.randint(0, 999999)).zfill(6)\n",
    "        self.balance = balance\n",
    "        Account.account_count += 1\n",
    "    def get_account_num(cls):\n",
    "        print(cls.account_count)\n",
    "    def deposit(self, money):\n",
    "        if money>1:\n",
    "            self.balance += money\n",
    "    def withdraw(self, money):\n",
    "        if self.balance>money:\n",
    "            self.balance -= money"
   ]
  },
  {
   "cell_type": "code",
   "execution_count": 423,
   "id": "6573379d",
   "metadata": {},
   "outputs": [
    {
     "name": "stdout",
     "output_type": "stream",
     "text": [
      "110\n"
     ]
    }
   ],
   "source": [
    "k = Account(\"kim\", 100)\n",
    "k.deposit(100)\n",
    "k.withdraw(90)\n",
    "print(k.balance)"
   ]
  },
  {
   "cell_type": "markdown",
   "id": "070dd4ad",
   "metadata": {},
   "source": [
    "### 276 정보 출력 메서드*\n",
    "Account 인스턴스에 저장된 정보를 출력하는 display_info() 메서드를 추가하세요. 잔고는 세자리마다 쉼표를 출력하세요."
   ]
  },
  {
   "cell_type": "code",
   "execution_count": 451,
   "id": "2dacc5fa",
   "metadata": {},
   "outputs": [],
   "source": [
    "import random\n",
    "\n",
    "class Account:\n",
    "    \n",
    "    account_count = 0\n",
    "    \n",
    "    def __init__(self, name, balance):\n",
    "        self.bank = \"SC은행\"\n",
    "        self.name = name\n",
    "        self.account_number = str(random.randint(0,999)).zfill(3)+\"-\"+str(random.randint(0, 99)).zfill(2)+\"-\"+str(random.randint(0, 999999)).zfill(6)\n",
    "        self.balance = balance\n",
    "        Account.account_count += 1\n",
    "    def get_account_num(cls):\n",
    "        print(cls.account_count)\n",
    "    def deposit(self, money):\n",
    "        if money>1:\n",
    "            self.balance += money\n",
    "    def withdraw(self, money):\n",
    "        if self.balance>money:\n",
    "            self.balance -= money\n",
    "    def display_info(self):\n",
    "        print(f'은행이름: {self.bank}')\n",
    "        print(f'예금주: {self.name}')\n",
    "        print(f'계좌번호: {self.account_number}')\n",
    "        print(f'잔고: {self.balance:,}')"
   ]
  },
  {
   "cell_type": "code",
   "execution_count": 452,
   "id": "cc7a516a",
   "metadata": {},
   "outputs": [
    {
     "name": "stdout",
     "output_type": "stream",
     "text": [
      "은행이름: SC은행\n",
      "예금주: 파이썬\n",
      "계좌번호: 908-35-800184\n",
      "잔고: 10,000\n"
     ]
    }
   ],
   "source": [
    "p = Account(\"파이썬\", 10000)\n",
    "p.display_info()"
   ]
  },
  {
   "cell_type": "markdown",
   "id": "b3806aed",
   "metadata": {},
   "source": [
    "### 277 이자 지급하기*\n",
    "입금 횟수가 5회가 될 때 잔고를 기준으로 1%의 이자가 잔고에 추가되도록 코드를 변경해보세요."
   ]
  },
  {
   "cell_type": "code",
   "execution_count": 455,
   "id": "37ae6814",
   "metadata": {},
   "outputs": [],
   "source": [
    "import random\n",
    "\n",
    "class Account:\n",
    "    \n",
    "    account_count = 0\n",
    "\n",
    "    def __init__(self, name, balance):\n",
    "        self.deposit_count = 0\n",
    "        self.bank = \"SC은행\"\n",
    "        self.name = name\n",
    "        self.account_number = str(random.randint(0,999)).zfill(3)+\"-\"+str(random.randint(0, 99)).zfill(2)+\"-\"+str(random.randint(0, 999999)).zfill(6)\n",
    "        self.balance = balance\n",
    "        Account.account_count += 1\n",
    "    def get_account_num(cls):\n",
    "        print(cls.account_count)\n",
    "    def deposit(self, money):\n",
    "        if money>1:\n",
    "            self.balance += money\n",
    "            self.deposit_count += 1\n",
    "            if self.deposit_count % 5 == 0:\n",
    "                self.balance = self.balance*1.01\n",
    "    def withdraw(self, money):\n",
    "        \n",
    "        if self.balance>money:\n",
    "            self.balance -= money\n",
    "    def display_info(self):\n",
    "        print(f'은행이름: {self.bank}')\n",
    "        print(f'예금주: {self.name}')\n",
    "        print(f'계좌번호: {self.account_number}')\n",
    "        print(f'잔고: {self.balance:,}')"
   ]
  },
  {
   "cell_type": "code",
   "execution_count": 456,
   "id": "6d1841ff",
   "metadata": {},
   "outputs": [
    {
     "name": "stdout",
     "output_type": "stream",
     "text": [
      "50500.0\n"
     ]
    }
   ],
   "source": [
    "p = Account(\"파이썬\", 10000)\n",
    "p.deposit(10000)\n",
    "p.deposit(10000)\n",
    "p.deposit(10000)\n",
    "p.deposit(5000)\n",
    "p.deposit(5000)\n",
    "print(p.balance)\n"
   ]
  },
  {
   "cell_type": "markdown",
   "id": "0824d26f",
   "metadata": {},
   "source": [
    "### 278 여러 객체 생성\n",
    "Account 클래스로부터 3개 이상 인스턴스를 생성하고 생성된 인스턴스를 리스트에 저장해보세요."
   ]
  },
  {
   "cell_type": "code",
   "execution_count": 461,
   "id": "815be689",
   "metadata": {},
   "outputs": [
    {
     "name": "stdout",
     "output_type": "stream",
     "text": [
      "[<__main__.Account object at 0x000001FF24F4EFD0>, <__main__.Account object at 0x000001FF24F4D3D0>, <__main__.Account object at 0x000001FF24F4D5D0>]\n"
     ]
    }
   ],
   "source": [
    "k = Account(\"KIM\", 10000000)\n",
    "l = Account(\"LEE\", 10000)\n",
    "p = Account(\"PARK\", 10000)\n",
    "\n",
    "accounts = [k, l, p]\n",
    "\n",
    "print(accounts)"
   ]
  },
  {
   "cell_type": "markdown",
   "id": "2cea8590",
   "metadata": {},
   "source": [
    "### 279 객체 순회\n",
    "반복문을 통해 리스트에 있는 객체를 순회하면서 잔고가 100만원 이상인 고객의 정보만 출력하세요."
   ]
  },
  {
   "cell_type": "code",
   "execution_count": 468,
   "id": "5a198054",
   "metadata": {},
   "outputs": [
    {
     "name": "stdout",
     "output_type": "stream",
     "text": [
      "은행이름: SC은행\n",
      "예금주: KIM\n",
      "계좌번호: 487-64-466873\n",
      "잔고: 10,000,000\n"
     ]
    }
   ],
   "source": [
    "for i in accounts:\n",
    "    if i.balance>=1000000:\n",
    "        i.display_info()"
   ]
  },
  {
   "cell_type": "markdown",
   "id": "6cd9c5e1",
   "metadata": {},
   "source": [
    "### 280 입출금 내역\n",
    "입금과 출금 내역이 기록되도록 코드를 업데이트 하세요. 입금 내역과 출금 내역을 출력하는 deposit_history와 withdraw_history 메서드를 추가하세요."
   ]
  },
  {
   "cell_type": "code",
   "execution_count": 476,
   "id": "c7a73c3c",
   "metadata": {},
   "outputs": [],
   "source": [
    "import random\n",
    "\n",
    "class Account:\n",
    "    \n",
    "    account_count = 0\n",
    "\n",
    "    def __init__(self, name, balance):\n",
    "        self.deposit_count = 0\n",
    "        self.deposit_log = []\n",
    "        self.withdraw_log = [] \n",
    "        \n",
    "        self.bank = \"SC은행\"\n",
    "        self.name = name\n",
    "        self.account_number = str(random.randint(0,999)).zfill(3)+\"-\"+str(random.randint(0, 99)).zfill(2)+\"-\"+str(random.randint(0, 999999)).zfill(6)\n",
    "        self.balance = balance\n",
    "        Account.account_count += 1\n",
    "    def get_account_num(cls):\n",
    "        print(cls.account_count)\n",
    "    def deposit(self, money):\n",
    "        if money>1:\n",
    "            self.balance += money\n",
    "            self.deposit_count += 1\n",
    "            self.deposit_log.append(money)\n",
    "            if self.deposit_count % 5 == 0:\n",
    "                self.balance = self.balance*1.01\n",
    "    def withdraw(self, money):\n",
    "        if self.balance>money:\n",
    "            self.balance -= money\n",
    "            self.withdraw_log.append(money)\n",
    "    def display_info(self):\n",
    "        print(f'은행이름: {self.bank}')\n",
    "        print(f'예금주: {self.name}')\n",
    "        print(f'계좌번호: {self.account_number}')\n",
    "        print(f'잔고: {self.balance:,}')\n",
    "        \n",
    "    def deposit_history(self):\n",
    "        return self.deposit_log\n",
    "        \n",
    "    def withdraw_history(self):\n",
    "        return self.withdraw_log"
   ]
  },
  {
   "cell_type": "code",
   "execution_count": 480,
   "id": "115877a6",
   "metadata": {},
   "outputs": [
    {
     "data": {
      "text/plain": [
       "[100, 200, 300]"
      ]
     },
     "execution_count": 480,
     "metadata": {},
     "output_type": "execute_result"
    }
   ],
   "source": [
    "k = Account(\"Kim\", 1000)\n",
    "k.deposit(100)\n",
    "k.deposit(200)\n",
    "k.deposit(300)\n",
    "k.deposit_history()"
   ]
  },
  {
   "cell_type": "code",
   "execution_count": 481,
   "id": "aff201a5",
   "metadata": {},
   "outputs": [
    {
     "data": {
      "text/plain": [
       "[100, 200]"
      ]
     },
     "execution_count": 481,
     "metadata": {},
     "output_type": "execute_result"
    }
   ],
   "source": [
    "k.withdraw(100)\n",
    "k.withdraw(200)\n",
    "k.withdraw_history()"
   ]
  },
  {
   "cell_type": "markdown",
   "id": "bd6e4f77",
   "metadata": {},
   "source": [
    "### 281 클래스 정의\n",
    "다음 코드가 동작하도록 차 클래스를 정의하세요."
   ]
  },
  {
   "cell_type": "code",
   "execution_count": 489,
   "id": "a3bdb052",
   "metadata": {},
   "outputs": [],
   "source": [
    "class Car:\n",
    "    def __init__(self,wheel, price):\n",
    "        self.wheel = wheel\n",
    "        self.price = price"
   ]
  },
  {
   "cell_type": "code",
   "execution_count": 490,
   "id": "ab4d8863",
   "metadata": {},
   "outputs": [
    {
     "data": {
      "text/plain": [
       "(2, 1000)"
      ]
     },
     "execution_count": 490,
     "metadata": {},
     "output_type": "execute_result"
    }
   ],
   "source": [
    "car1 = Car(2, 1000)\n",
    "\n",
    "car1.wheel, car1.price"
   ]
  },
  {
   "cell_type": "markdown",
   "id": "8b9efc98",
   "metadata": {},
   "source": [
    "### 282 클래스 상속\n",
    "차 클래스를 상속받은 자전차 클래스를 정의하세요."
   ]
  },
  {
   "cell_type": "code",
   "execution_count": 497,
   "id": "88b55d80",
   "metadata": {},
   "outputs": [],
   "source": [
    "class Car:\n",
    "    def __init__(self,wheel, price):\n",
    "        self.wheel = wheel\n",
    "        self.price = price\n",
    "\n",
    "class Bicycle(Car):\n",
    "    pass"
   ]
  },
  {
   "cell_type": "markdown",
   "id": "f0240d82",
   "metadata": {},
   "source": [
    "상속 받은 Bicycle에 init을 생성하지 않아도 되지 않나?"
   ]
  },
  {
   "cell_type": "markdown",
   "id": "84437948",
   "metadata": {},
   "source": [
    "### 283 클래스 상속\n",
    "다음 코드가 동작하도록 자전차 클래스를 정의하세요. 단 자전차 클래스는 차 클래스를 상속받습니다."
   ]
  },
  {
   "cell_type": "code",
   "execution_count": 498,
   "id": "5ddba62d",
   "metadata": {},
   "outputs": [],
   "source": [
    "class Bicycle(Car):\n",
    "    def __init__(self,wheel, price):\n",
    "        self.wheel = wheel\n",
    "        self.price = price"
   ]
  },
  {
   "cell_type": "code",
   "execution_count": 499,
   "id": "618d5c44",
   "metadata": {},
   "outputs": [
    {
     "data": {
      "text/plain": [
       "100"
      ]
     },
     "execution_count": 499,
     "metadata": {},
     "output_type": "execute_result"
    }
   ],
   "source": [
    "bicycle = Bicycle(2, 100)\n",
    "bicycle.price"
   ]
  },
  {
   "cell_type": "markdown",
   "id": "f6ace400",
   "metadata": {},
   "source": [
    "### 284 클래스 상속\n",
    "다음 코드가 동작하도록 자전차 클래스를 정의하세요. 단 자전차 클래스는 차 클래스를 상속받습니다."
   ]
  },
  {
   "cell_type": "code",
   "execution_count": null,
   "id": "0384dcc2",
   "metadata": {},
   "outputs": [],
   "source": [
    "class Bicycle(Car):\n",
    "    def __init__(self,wheel, price):\n",
    "        self.wheel = wheel\n",
    "        self.price = price"
   ]
  },
  {
   "cell_type": "markdown",
   "id": "72e100e8",
   "metadata": {},
   "source": [
    "### "
   ]
  },
  {
   "cell_type": "code",
   "execution_count": null,
   "id": "0627f3e6",
   "metadata": {},
   "outputs": [],
   "source": []
  },
  {
   "cell_type": "markdown",
   "id": "fa664e25",
   "metadata": {},
   "source": [
    "### "
   ]
  },
  {
   "cell_type": "code",
   "execution_count": null,
   "id": "01723b3f",
   "metadata": {},
   "outputs": [],
   "source": []
  },
  {
   "cell_type": "markdown",
   "id": "629a9f1a",
   "metadata": {},
   "source": [
    "### "
   ]
  },
  {
   "cell_type": "code",
   "execution_count": null,
   "id": "f9ca4711",
   "metadata": {},
   "outputs": [],
   "source": []
  },
  {
   "cell_type": "markdown",
   "id": "839ba718",
   "metadata": {},
   "source": [
    "### "
   ]
  },
  {
   "cell_type": "code",
   "execution_count": null,
   "id": "03d1987f",
   "metadata": {},
   "outputs": [],
   "source": []
  },
  {
   "cell_type": "markdown",
   "id": "bde8b543",
   "metadata": {},
   "source": [
    "### "
   ]
  },
  {
   "cell_type": "code",
   "execution_count": null,
   "id": "8b06e7b6",
   "metadata": {},
   "outputs": [],
   "source": []
  },
  {
   "cell_type": "markdown",
   "id": "7832d0d9",
   "metadata": {},
   "source": [
    "### "
   ]
  },
  {
   "cell_type": "code",
   "execution_count": null,
   "id": "27a96a8c",
   "metadata": {},
   "outputs": [],
   "source": []
  },
  {
   "cell_type": "markdown",
   "id": "2842d7bd",
   "metadata": {},
   "source": [
    "### "
   ]
  },
  {
   "cell_type": "code",
   "execution_count": null,
   "id": "ca042b32",
   "metadata": {},
   "outputs": [],
   "source": [
    "### "
   ]
  },
  {
   "cell_type": "markdown",
   "id": "5cf61f6a",
   "metadata": {},
   "source": [
    "### "
   ]
  },
  {
   "cell_type": "code",
   "execution_count": null,
   "id": "8aef6d75",
   "metadata": {},
   "outputs": [],
   "source": []
  },
  {
   "cell_type": "code",
   "execution_count": null,
   "id": "3ad8a9b6",
   "metadata": {},
   "outputs": [],
   "source": [
    "### "
   ]
  },
  {
   "cell_type": "code",
   "execution_count": null,
   "id": "81882874",
   "metadata": {},
   "outputs": [],
   "source": []
  },
  {
   "cell_type": "code",
   "execution_count": null,
   "id": "34f42877",
   "metadata": {},
   "outputs": [],
   "source": [
    "### "
   ]
  },
  {
   "cell_type": "code",
   "execution_count": null,
   "id": "b67e6c9e",
   "metadata": {},
   "outputs": [],
   "source": []
  },
  {
   "cell_type": "code",
   "execution_count": null,
   "id": "3c8b1861",
   "metadata": {},
   "outputs": [],
   "source": []
  },
  {
   "cell_type": "code",
   "execution_count": null,
   "id": "48c4727e",
   "metadata": {},
   "outputs": [],
   "source": []
  },
  {
   "cell_type": "code",
   "execution_count": null,
   "id": "dd12dbcc",
   "metadata": {},
   "outputs": [],
   "source": []
  }
 ],
 "metadata": {
  "kernelspec": {
   "display_name": "Python 3 (ipykernel)",
   "language": "python",
   "name": "python3"
  },
  "language_info": {
   "codemirror_mode": {
    "name": "ipython",
    "version": 3
   },
   "file_extension": ".py",
   "mimetype": "text/x-python",
   "name": "python",
   "nbconvert_exporter": "python",
   "pygments_lexer": "ipython3",
   "version": "3.11.5"
  }
 },
 "nbformat": 4,
 "nbformat_minor": 5
}
