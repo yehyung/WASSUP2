{
 "cells": [
  {
   "cell_type": "markdown",
   "id": "27427bb1",
   "metadata": {},
   "source": [
    "### 211\n",
    "함수의 호출 결과를 예측하라."
   ]
  },
  {
   "cell_type": "code",
   "execution_count": 1,
   "id": "9d5e6593",
   "metadata": {},
   "outputs": [
    {
     "name": "stdout",
     "output_type": "stream",
     "text": [
      "안녕\n",
      "Hi\n"
     ]
    }
   ],
   "source": [
    "def 함수(문자열) :\n",
    "    print(문자열)\n",
    "\n",
    "함수(\"안녕\")\n",
    "함수(\"Hi\")\n",
    "\n",
    "# 안녕\n",
    "# Hi"
   ]
  },
  {
   "cell_type": "markdown",
   "id": "3576c6aa",
   "metadata": {},
   "source": [
    "### 212\n",
    "함수의 호출 결과를 예측하라."
   ]
  },
  {
   "cell_type": "code",
   "execution_count": 2,
   "id": "d444949a",
   "metadata": {},
   "outputs": [
    {
     "name": "stdout",
     "output_type": "stream",
     "text": [
      "7\n",
      "15\n"
     ]
    }
   ],
   "source": [
    "def 함수(a, b) :\n",
    "    print(a + b)\n",
    "\n",
    "함수(3, 4)\n",
    "함수(7, 8)\n",
    "\n",
    "# 7\n",
    "# 15"
   ]
  },
  {
   "cell_type": "markdown",
   "id": "7b74b671",
   "metadata": {},
   "source": [
    "### 213\n",
    "아래와 같은 에러가 발생하는 원인을 설명하라."
   ]
  },
  {
   "cell_type": "code",
   "execution_count": 6,
   "id": "33634034",
   "metadata": {},
   "outputs": [
    {
     "ename": "TypeError",
     "evalue": "함수() missing 1 required positional argument: '문자열'",
     "output_type": "error",
     "traceback": [
      "\u001b[1;31m---------------------------------------------------------------------------\u001b[0m",
      "\u001b[1;31mTypeError\u001b[0m                                 Traceback (most recent call last)",
      "Cell \u001b[1;32mIn[6], line 3\u001b[0m\n\u001b[0;32m      1\u001b[0m \u001b[38;5;28;01mdef\u001b[39;00m \u001b[38;5;21m함수\u001b[39m(문자열) :\n\u001b[0;32m      2\u001b[0m     \u001b[38;5;28mprint\u001b[39m(문자열)\n\u001b[1;32m----> 3\u001b[0m 함수()\n",
      "\u001b[1;31mTypeError\u001b[0m: 함수() missing 1 required positional argument: '문자열'"
     ]
    }
   ],
   "source": [
    "def 함수(문자열) :\n",
    "    print(문자열)\n",
    "함수()\n",
    "\n",
    "# 파라미터가 입력되지 않아서"
   ]
  },
  {
   "cell_type": "markdown",
   "id": "dd968b71",
   "metadata": {},
   "source": [
    "### 214\n",
    "아래와 같은 에러가 발생하는 원인을 설명하라."
   ]
  },
  {
   "cell_type": "code",
   "execution_count": 8,
   "id": "cb35f03a",
   "metadata": {},
   "outputs": [
    {
     "ename": "TypeError",
     "evalue": "can only concatenate str (not \"int\") to str",
     "output_type": "error",
     "traceback": [
      "\u001b[1;31m---------------------------------------------------------------------------\u001b[0m",
      "\u001b[1;31mTypeError\u001b[0m                                 Traceback (most recent call last)",
      "Cell \u001b[1;32mIn[8], line 4\u001b[0m\n\u001b[0;32m      1\u001b[0m \u001b[38;5;28;01mdef\u001b[39;00m \u001b[38;5;21m함수\u001b[39m(a, b) :\n\u001b[0;32m      2\u001b[0m     \u001b[38;5;28mprint\u001b[39m(a \u001b[38;5;241m+\u001b[39m b)\n\u001b[1;32m----> 4\u001b[0m 함수(\u001b[38;5;124m\"\u001b[39m\u001b[38;5;124m안녕\u001b[39m\u001b[38;5;124m\"\u001b[39m, \u001b[38;5;241m3\u001b[39m)\n",
      "Cell \u001b[1;32mIn[8], line 2\u001b[0m, in \u001b[0;36m함수\u001b[1;34m(a, b)\u001b[0m\n\u001b[0;32m      1\u001b[0m \u001b[38;5;28;01mdef\u001b[39;00m \u001b[38;5;21m함수\u001b[39m(a, b) :\n\u001b[1;32m----> 2\u001b[0m     \u001b[38;5;28mprint\u001b[39m(a \u001b[38;5;241m+\u001b[39m b)\n",
      "\u001b[1;31mTypeError\u001b[0m: can only concatenate str (not \"int\") to str"
     ]
    }
   ],
   "source": [
    "def 함수(a, b) :\n",
    "    print(a + b)\n",
    "\n",
    "함수(\"안녕\", 3)\n",
    "\n",
    "# 정수와 문자열을 더하려고 해서"
   ]
  },
  {
   "cell_type": "markdown",
   "id": "c5d2c246",
   "metadata": {},
   "source": [
    "### 215\n",
    "하나의 문자를 입력받아 문자열 끝에 \":D\" 스마일 문자열을 이어 붙여 출력하는 print_with_smile 함수를 정의하라."
   ]
  },
  {
   "cell_type": "code",
   "execution_count": 13,
   "id": "10006224",
   "metadata": {},
   "outputs": [],
   "source": [
    "def print_with_smile(string):\n",
    "    print(string+\":D\")"
   ]
  },
  {
   "cell_type": "markdown",
   "id": "711b0130",
   "metadata": {},
   "source": [
    "### 216\n",
    "215에서 정의한 함수를 호출하라. 파라미터는 \"안녕하세요\"로 입력하라."
   ]
  },
  {
   "cell_type": "code",
   "execution_count": 16,
   "id": "96d5aece",
   "metadata": {},
   "outputs": [
    {
     "name": "stdout",
     "output_type": "stream",
     "text": [
      "안녕하세요:D\n"
     ]
    }
   ],
   "source": [
    "print_with_smile(\"안녕하세요\")"
   ]
  },
  {
   "cell_type": "markdown",
   "id": "ae3e10b3",
   "metadata": {},
   "source": [
    "### 217\n",
    "현재 가격을 입력 받아 상한가 (30%)를 출력하는 print_upper_price 함수를 정의하라."
   ]
  },
  {
   "cell_type": "code",
   "execution_count": 17,
   "id": "f95debfe",
   "metadata": {},
   "outputs": [],
   "source": [
    "def print_upper_price(price):\n",
    "    print(price*1.3)"
   ]
  },
  {
   "cell_type": "markdown",
   "id": "5d2bed81",
   "metadata": {},
   "source": [
    "### 218\n",
    "두 개의 숫자를 입력받아 두 수의 합을 출력하는 print_sum 함수를 정의하라."
   ]
  },
  {
   "cell_type": "code",
   "execution_count": 18,
   "id": "f5bd0e6e",
   "metadata": {},
   "outputs": [],
   "source": [
    "def print_sum(a, b):\n",
    "    print(a+b)"
   ]
  },
  {
   "cell_type": "markdown",
   "id": "a1c3fe4a",
   "metadata": {},
   "source": [
    "### 219\n",
    "두 개의 숫자를 입력받아 합/차/곱/나눗셈을 출력하는 print_arithmetic_operation 함수를 작성하라."
   ]
  },
  {
   "cell_type": "code",
   "execution_count": 21,
   "id": "59e84035",
   "metadata": {},
   "outputs": [
    {
     "name": "stdout",
     "output_type": "stream",
     "text": [
      "3 + 4 = 7\n",
      "3 - 4 = -1\n",
      "3 * 4 = 12\n",
      "3 / 4 = 0.75\n"
     ]
    }
   ],
   "source": [
    "def print_arithmetic_operation (a, b):\n",
    "    print(f\"{a} + {b} = {a+b}\")\n",
    "    print(f\"{a} - {b} = {a-b}\")\n",
    "    print(f\"{a} * {b} = {a*b}\")\n",
    "    print(f\"{a} / {b} = {a/b}\")\n",
    "    \n",
    "print_arithmetic_operation(3, 4)"
   ]
  },
  {
   "cell_type": "markdown",
   "id": "55cf2176",
   "metadata": {},
   "source": [
    "### 220\n",
    "세 개의 숫자를 입력받아 가장 큰수를 출력하는 print_max 함수를 정의하라. 단 if 문을 사용해서 수를 비교하라."
   ]
  },
  {
   "cell_type": "code",
   "execution_count": 27,
   "id": "3383c5b8",
   "metadata": {},
   "outputs": [
    {
     "name": "stdout",
     "output_type": "stream",
     "text": [
      "214\n"
     ]
    }
   ],
   "source": [
    "def print_max (a, b, c):\n",
    "    if a>=b and a>=c:\n",
    "        print(a)\n",
    "    elif  b>=a and b>=c:\n",
    "        print(b)\n",
    "    else:\n",
    "        print(c)"
   ]
  },
  {
   "cell_type": "code",
   "execution_count": 28,
   "id": "aed178f0",
   "metadata": {},
   "outputs": [
    {
     "name": "stdout",
     "output_type": "stream",
     "text": [
      "214\n"
     ]
    }
   ],
   "source": [
    "def print_max(a, b, c) :\n",
    "    max_val = 0\n",
    "    if a > max_val :\n",
    "        max_val = a\n",
    "    if b > max_val :\n",
    "        max_val = b\n",
    "    if c > max_val :\n",
    "        max_val = c\n",
    "    print(max_val)"
   ]
  },
  {
   "cell_type": "markdown",
   "id": "647f0146",
   "metadata": {},
   "source": [
    "### 221\n",
    "입력된 문자열을 역순으로 출력하는 print_reverse 함수를 정의하라."
   ]
  },
  {
   "cell_type": "code",
   "execution_count": 33,
   "id": "c95af18a",
   "metadata": {},
   "outputs": [
    {
     "name": "stdout",
     "output_type": "stream",
     "text": [
      "nohtyp\n"
     ]
    }
   ],
   "source": [
    "def print_reverse(string):\n",
    "    print(string[::-1])\n",
    "\n",
    "print_reverse(\"python\")"
   ]
  },
  {
   "cell_type": "markdown",
   "id": "49508151",
   "metadata": {},
   "source": [
    "### 222\n",
    "성적 리스트를 입력 받아 평균을 출력하는 print_score 함수를 정의하라."
   ]
  },
  {
   "cell_type": "code",
   "execution_count": 35,
   "id": "fa86d995",
   "metadata": {},
   "outputs": [
    {
     "name": "stdout",
     "output_type": "stream",
     "text": [
      "2.0\n"
     ]
    }
   ],
   "source": [
    "def print_score(temp):\n",
    "    sum = 0\n",
    "    for i in temp:\n",
    "        sum += i\n",
    "    print(sum/len(temp))\n",
    "print_score ([1, 2, 3])"
   ]
  },
  {
   "cell_type": "code",
   "execution_count": 38,
   "id": "fb0688c8",
   "metadata": {},
   "outputs": [
    {
     "name": "stdout",
     "output_type": "stream",
     "text": [
      "2.0\n"
     ]
    }
   ],
   "source": [
    "def print_score(temp):\n",
    "    print(sum(temp)/len(temp))\n",
    "print_score ([1, 2, 3])"
   ]
  },
  {
   "cell_type": "markdown",
   "id": "54cf45a6",
   "metadata": {},
   "source": [
    "### 223\n",
    "하나의 리스트를 입력받아 짝수만 화면에 출력하는 print_even 함수를 정의하라."
   ]
  },
  {
   "cell_type": "code",
   "execution_count": 39,
   "id": "89b031c2",
   "metadata": {},
   "outputs": [
    {
     "name": "stdout",
     "output_type": "stream",
     "text": [
      "2\n",
      "10\n",
      "12\n"
     ]
    }
   ],
   "source": [
    "def print_even(temp):\n",
    "    for i in temp:\n",
    "        if i%2==0:\n",
    "            print(i)    \n",
    "    \n",
    "print_even ([1, 3, 2, 10, 12, 11, 15])"
   ]
  },
  {
   "cell_type": "markdown",
   "id": "34a13c23",
   "metadata": {},
   "source": [
    "### 224\n",
    "하나의 딕셔너리를 입력받아 딕셔너리의 key 값을 화면에 출력하는 print_keys 함수를 정의하라."
   ]
  },
  {
   "cell_type": "code",
   "execution_count": 45,
   "id": "a5bb2e6d",
   "metadata": {},
   "outputs": [
    {
     "name": "stdout",
     "output_type": "stream",
     "text": [
      "이름\n",
      "나이\n",
      "성별\n"
     ]
    }
   ],
   "source": [
    "def print_keys(temp):\n",
    "    for i in temp:\n",
    "        print(i)\n",
    "\n",
    "print_keys ({\"이름\":\"김말똥\", \"나이\":30, \"성별\":0})"
   ]
  },
  {
   "cell_type": "markdown",
   "id": "5ae3074a",
   "metadata": {},
   "source": [
    "### 225\n",
    "my_dict에는 날짜를 키값으로 OHLC가 리스트로 저장돼 있다."
   ]
  },
  {
   "cell_type": "markdown",
   "id": "6528373c",
   "metadata": {},
   "source": [
    "my_dict와 날짜 키값을 입력받아 OHLC 리스트를 출력하는 print_value_by_key 함수를 정의하라."
   ]
  },
  {
   "cell_type": "code",
   "execution_count": 48,
   "id": "33b0ac4b",
   "metadata": {},
   "outputs": [],
   "source": [
    "my_dict = {\"10/26\" : [100, 130, 100, 100],\n",
    "           \"10/27\" : [10, 12, 10, 11]}\n",
    "\n",
    "def  print_value_by_key(md, date):\n",
    "    print(md[date])"
   ]
  },
  {
   "cell_type": "code",
   "execution_count": 49,
   "id": "f86ebfd0",
   "metadata": {},
   "outputs": [
    {
     "name": "stdout",
     "output_type": "stream",
     "text": [
      "[100, 130, 100, 100]\n"
     ]
    }
   ],
   "source": [
    "print_value_by_key  (my_dict, \"10/26\")"
   ]
  },
  {
   "cell_type": "markdown",
   "id": "e5ab25af",
   "metadata": {},
   "source": [
    "### 226 ***\n",
    "입력 문자열을 한 줄에 다섯글자씩 출력하는 print_5xn(string) 함수를 작성하라."
   ]
  },
  {
   "cell_type": "code",
   "execution_count": 75,
   "id": "3a041729",
   "metadata": {},
   "outputs": [],
   "source": [
    "def print_5xn(line):\n",
    "    chunk_num = int(len(line) / 5)\n",
    "    for x in range(chunk_num + 1) :\n",
    "        print(line[x * 5: x * 5 + 5])"
   ]
  },
  {
   "cell_type": "code",
   "execution_count": 76,
   "id": "cc50550b",
   "metadata": {},
   "outputs": [
    {
     "name": "stdout",
     "output_type": "stream",
     "text": [
      "아이엠어보\n",
      "이유알어걸\n",
      "\n"
     ]
    }
   ],
   "source": [
    "print_5xn(\"아이엠어보이유알어걸\")"
   ]
  },
  {
   "cell_type": "markdown",
   "id": "f8d92604",
   "metadata": {},
   "source": [
    "### 227\n",
    "문자열과 한줄에 출력될 글자 수를 입력을 받아 한 줄에 입력된 글자 수만큼 출력하는 print_mxn(string) 함수를 작성하라."
   ]
  },
  {
   "cell_type": "code",
   "execution_count": 79,
   "id": "5a9512f5",
   "metadata": {},
   "outputs": [],
   "source": [
    "def printmxn(line, num):\n",
    "    chunk_num = int(len(line) / num)\n",
    "    for x in range(chunk_num + 1) :\n",
    "        print(line[x * num: x * num + num])"
   ]
  },
  {
   "cell_type": "code",
   "execution_count": 80,
   "id": "575a9cf3",
   "metadata": {
    "scrolled": true
   },
   "outputs": [
    {
     "name": "stdout",
     "output_type": "stream",
     "text": [
      "아이엠\n",
      "어보이\n",
      "유알어\n",
      "걸\n"
     ]
    }
   ],
   "source": [
    "printmxn(\"아이엠어보이유알어걸\", 3)"
   ]
  },
  {
   "cell_type": "markdown",
   "id": "85ef4cd9",
   "metadata": {},
   "source": [
    "### 228\n",
    "연봉을 입력받아 월급을 계산하는 calc_monthly_salary(annual_salary) 함수를 정의하라. 회사는 연봉을 12개월로 나누어 분할 지급하며, 이 때 1원 미만은 버림한다."
   ]
  },
  {
   "cell_type": "code",
   "execution_count": 83,
   "id": "6dd69442",
   "metadata": {},
   "outputs": [],
   "source": [
    "def calc_monthly_salary(annual_salary):\n",
    "    print(int(annual_salary/12))"
   ]
  },
  {
   "cell_type": "code",
   "execution_count": 84,
   "id": "6500bd34",
   "metadata": {},
   "outputs": [
    {
     "name": "stdout",
     "output_type": "stream",
     "text": [
      "1000000\n"
     ]
    }
   ],
   "source": [
    "calc_monthly_salary(12000000)"
   ]
  },
  {
   "cell_type": "markdown",
   "id": "2740b887",
   "metadata": {},
   "source": [
    "### 229\n",
    "아래 코드의 실행 결과를 예측하라."
   ]
  },
  {
   "cell_type": "code",
   "execution_count": 85,
   "id": "2e1fb2ab",
   "metadata": {},
   "outputs": [
    {
     "name": "stdout",
     "output_type": "stream",
     "text": [
      "왼쪽: 100\n",
      "오른쪽: 200\n"
     ]
    }
   ],
   "source": [
    "def my_print (a, b) :\n",
    "    print(\"왼쪽:\", a)\n",
    "    print(\"오른쪽:\", b)\n",
    "\n",
    "my_print(a=100, b=200)\n",
    "\n",
    "# 왼쪽: 100\n",
    "# 오른쪽: 200"
   ]
  },
  {
   "cell_type": "markdown",
   "id": "80787185",
   "metadata": {},
   "source": [
    "### 230\n",
    "아래 코드의 실행 결과를 예측하라."
   ]
  },
  {
   "cell_type": "code",
   "execution_count": 86,
   "id": "09547e32",
   "metadata": {},
   "outputs": [
    {
     "name": "stdout",
     "output_type": "stream",
     "text": [
      "왼쪽: 200\n",
      "오른쪽: 100\n"
     ]
    }
   ],
   "source": [
    "def my_print (a, b) :\n",
    "    print(\"왼쪽:\", a)\n",
    "    print(\"오른쪽:\", b)\n",
    "\n",
    "my_print(b=100, a=200)\n",
    "\n",
    "# 왼쪽: 200\n",
    "# 오른쪽: 100"
   ]
  },
  {
   "cell_type": "markdown",
   "id": "b43eb07d",
   "metadata": {},
   "source": [
    "### 231\n",
    "아래 코드를 실행한 결과를 예상하라."
   ]
  },
  {
   "cell_type": "code",
   "execution_count": 88,
   "id": "86a8b1b0",
   "metadata": {},
   "outputs": [
    {
     "ename": "NameError",
     "evalue": "name 'result' is not defined",
     "output_type": "error",
     "traceback": [
      "\u001b[1;31m---------------------------------------------------------------------------\u001b[0m",
      "\u001b[1;31mNameError\u001b[0m                                 Traceback (most recent call last)",
      "Cell \u001b[1;32mIn[88], line 5\u001b[0m\n\u001b[0;32m      2\u001b[0m     result \u001b[38;5;241m=\u001b[39m n \u001b[38;5;241m+\u001b[39m \u001b[38;5;241m1\u001b[39m\n\u001b[0;32m      4\u001b[0m n_plus_1(\u001b[38;5;241m3\u001b[39m)\n\u001b[1;32m----> 5\u001b[0m \u001b[38;5;28mprint\u001b[39m (result)\n",
      "\u001b[1;31mNameError\u001b[0m: name 'result' is not defined"
     ]
    }
   ],
   "source": [
    "def n_plus_1 (n) :\n",
    "    result = n + 1\n",
    "\n",
    "n_plus_1(3)\n",
    "print (result)\n",
    "\n",
    "# result is not defined"
   ]
  },
  {
   "cell_type": "markdown",
   "id": "ba7eefdb",
   "metadata": {},
   "source": [
    "### 232\n",
    "문자열 하나를 입력받아 인터넷 주소를 반환하는 make_url 함수를 정의하라."
   ]
  },
  {
   "cell_type": "code",
   "execution_count": 89,
   "id": "5d526821",
   "metadata": {},
   "outputs": [],
   "source": [
    "def make_url(temp):\n",
    "    return \"www.\"+temp+\".com\""
   ]
  },
  {
   "cell_type": "code",
   "execution_count": 90,
   "id": "97b0a860",
   "metadata": {},
   "outputs": [
    {
     "data": {
      "text/plain": [
       "'www.naver.com'"
      ]
     },
     "execution_count": 90,
     "metadata": {},
     "output_type": "execute_result"
    }
   ],
   "source": [
    "make_url(\"naver\")"
   ]
  },
  {
   "cell_type": "markdown",
   "id": "f091aa86",
   "metadata": {},
   "source": [
    "### 233\n",
    "문자열을 입력받아 각 문자들로 구성된 리스트로 반환하는 make_list 함수를 정의하라.\n",
    "\n"
   ]
  },
  {
   "cell_type": "code",
   "execution_count": 94,
   "id": "20d2c5db",
   "metadata": {},
   "outputs": [],
   "source": [
    "def make_list(string):\n",
    "    str_list = []\n",
    "    for i in string:\n",
    "        str_list.append(i)\n",
    "    return str_list"
   ]
  },
  {
   "cell_type": "code",
   "execution_count": 96,
   "id": "bfb527ff",
   "metadata": {},
   "outputs": [],
   "source": [
    "def make_list (string) :\n",
    "    return list(string)"
   ]
  },
  {
   "cell_type": "code",
   "execution_count": 97,
   "id": "d68ee819",
   "metadata": {},
   "outputs": [
    {
     "data": {
      "text/plain": [
       "['a', 'b', 'c', 'd']"
      ]
     },
     "execution_count": 97,
     "metadata": {},
     "output_type": "execute_result"
    }
   ],
   "source": [
    "make_list(\"abcd\")"
   ]
  },
  {
   "cell_type": "markdown",
   "id": "4694ab22",
   "metadata": {},
   "source": [
    "### 234\n",
    "숫자로 구성된 하나의 리스트를 입력받아, 짝수들을 추출하여 리스트로 반환하는 pickup_even 함수를 구현하라.\n",
    "\n"
   ]
  },
  {
   "cell_type": "code",
   "execution_count": 98,
   "id": "590e0555",
   "metadata": {},
   "outputs": [],
   "source": [
    "def pickup_even(temp):\n",
    "    num=[]\n",
    "    for i in temp:\n",
    "        if i%2==0:\n",
    "            num.append(i)\n",
    "    return num"
   ]
  },
  {
   "cell_type": "code",
   "execution_count": 99,
   "id": "c683254f",
   "metadata": {
    "scrolled": true
   },
   "outputs": [
    {
     "data": {
      "text/plain": [
       "[4, 6, 8]"
      ]
     },
     "execution_count": 99,
     "metadata": {},
     "output_type": "execute_result"
    }
   ],
   "source": [
    "pickup_even([3, 4, 5, 6, 7, 8])"
   ]
  },
  {
   "cell_type": "markdown",
   "id": "606bdeeb",
   "metadata": {},
   "source": [
    "### 235\n",
    "콤마가 포함된 문자열 숫자를 입력받아 정수로 변환하는 convert_int 함수를 정의하라."
   ]
  },
  {
   "cell_type": "code",
   "execution_count": 100,
   "id": "069b8256",
   "metadata": {},
   "outputs": [],
   "source": [
    "def convert_int(temp):\n",
    "    return int(temp.replace(',', ''))"
   ]
  },
  {
   "cell_type": "code",
   "execution_count": 101,
   "id": "6772a10f",
   "metadata": {},
   "outputs": [
    {
     "data": {
      "text/plain": [
       "1234567"
      ]
     },
     "execution_count": 101,
     "metadata": {},
     "output_type": "execute_result"
    }
   ],
   "source": [
    "convert_int(\"1,234,567\")"
   ]
  },
  {
   "cell_type": "markdown",
   "id": "85decce8",
   "metadata": {},
   "source": [
    "### 236\n",
    "아래 코드의 실행 결과를 예측하라."
   ]
  },
  {
   "cell_type": "code",
   "execution_count": 102,
   "id": "b1c6d2d6",
   "metadata": {},
   "outputs": [
    {
     "name": "stdout",
     "output_type": "stream",
     "text": [
      "22\n"
     ]
    }
   ],
   "source": [
    "def 함수(num) :\n",
    "    return num + 4\n",
    "\n",
    "a = 함수(10)\n",
    "b = 함수(a)\n",
    "c = 함수(b)\n",
    "print(c)\n",
    "\n",
    "# 22"
   ]
  },
  {
   "cell_type": "markdown",
   "id": "ad3c217c",
   "metadata": {},
   "source": [
    "### 237\n",
    "아래 코드의 실행 결과를 예측하라."
   ]
  },
  {
   "cell_type": "code",
   "execution_count": 111,
   "id": "116c9222",
   "metadata": {},
   "outputs": [
    {
     "name": "stdout",
     "output_type": "stream",
     "text": [
      "22\n"
     ]
    }
   ],
   "source": [
    "def 함수(num) :\n",
    "    return num + 4\n",
    "\n",
    "c = 함수(함수(함수(10)))\n",
    "print(c)\n",
    "\n",
    "# 22"
   ]
  },
  {
   "cell_type": "markdown",
   "id": "0fde0a27",
   "metadata": {},
   "source": [
    "### 238\n",
    "아래 코드의 실행 결과를 예측하라."
   ]
  },
  {
   "cell_type": "code",
   "execution_count": 113,
   "id": "583ac6c3",
   "metadata": {},
   "outputs": [
    {
     "name": "stdout",
     "output_type": "stream",
     "text": [
      "140\n"
     ]
    }
   ],
   "source": [
    "def 함수1(num) :\n",
    "    return num + 4\n",
    "\n",
    "def 함수2(num) :\n",
    "    return num * 10\n",
    "\n",
    "a = 함수1(10)\n",
    "c = 함수2(a)\n",
    "print(c)\n",
    "\n",
    "# 140"
   ]
  },
  {
   "cell_type": "markdown",
   "id": "e44b9d1c",
   "metadata": {},
   "source": [
    "### 239\n",
    "아래 코드의 실행 결과를 예측하라."
   ]
  },
  {
   "cell_type": "code",
   "execution_count": 115,
   "id": "205231ac",
   "metadata": {},
   "outputs": [
    {
     "name": "stdout",
     "output_type": "stream",
     "text": [
      "16\n"
     ]
    }
   ],
   "source": [
    "def 함수1(num) :\n",
    "    return num + 4\n",
    "\n",
    "def 함수2(num) :\n",
    "    num = num + 2\n",
    "    return 함수1(num)\n",
    "\n",
    "c = 함수2(10)\n",
    "print(c)\n",
    "\n",
    "# 16"
   ]
  },
  {
   "cell_type": "markdown",
   "id": "6f0050f4",
   "metadata": {},
   "source": [
    "### 240\n",
    "아래 코드의 실행 결과를 예측하라."
   ]
  },
  {
   "cell_type": "code",
   "execution_count": 116,
   "id": "6f0038e3",
   "metadata": {},
   "outputs": [
    {
     "name": "stdout",
     "output_type": "stream",
     "text": [
      "28\n"
     ]
    }
   ],
   "source": [
    "def 함수0(num) :\n",
    "    return num * 2\n",
    "\n",
    "def 함수1(num) :\n",
    "    return 함수0(num + 2)\n",
    "\n",
    "def 함수2(num) :\n",
    "    num = num + 10\n",
    "    return 함수1(num)\n",
    "\n",
    "c = 함수2(2)\n",
    "print(c)\n",
    "\n",
    "# 28"
   ]
  }
 ],
 "metadata": {
  "kernelspec": {
   "display_name": "Python 3 (ipykernel)",
   "language": "python",
   "name": "python3"
  },
  "language_info": {
   "codemirror_mode": {
    "name": "ipython",
    "version": 3
   },
   "file_extension": ".py",
   "mimetype": "text/x-python",
   "name": "python",
   "nbconvert_exporter": "python",
   "pygments_lexer": "ipython3",
   "version": "3.11.5"
  }
 },
 "nbformat": 4,
 "nbformat_minor": 5
}
