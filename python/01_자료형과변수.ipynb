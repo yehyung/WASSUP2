{
 "cells": [
  {
   "cell_type": "markdown",
   "id": "6a9dc8fc",
   "metadata": {},
   "source": [
    "# 리스트 객체"
   ]
  },
  {
   "cell_type": "code",
   "execution_count": 1,
   "id": "99824b54",
   "metadata": {},
   "outputs": [
    {
     "data": {
      "text/plain": [
       "[1, 3, 5, 7, 9]"
      ]
     },
     "execution_count": 1,
     "metadata": {},
     "output_type": "execute_result"
    }
   ],
   "source": [
    "odd = [1, 3, 5, 7, 9]\n",
    "odd"
   ]
  },
  {
   "cell_type": "code",
   "execution_count": 2,
   "id": "a3ef29fb",
   "metadata": {},
   "outputs": [
    {
     "data": {
      "text/plain": [
       "list"
      ]
     },
     "execution_count": 2,
     "metadata": {},
     "output_type": "execute_result"
    }
   ],
   "source": [
    "type(odd)"
   ]
  },
  {
   "cell_type": "code",
   "execution_count": 3,
   "id": "fcda6410",
   "metadata": {},
   "outputs": [
    {
     "data": {
      "text/plain": [
       "([],\n",
       " [1, 2, 3],\n",
       " ['Life', 'is', 'too', 'short'],\n",
       " [1, 2, 'Life', 'is'],\n",
       " [1, 2, ['Life', 'is']])"
      ]
     },
     "execution_count": 3,
     "metadata": {},
     "output_type": "execute_result"
    }
   ],
   "source": [
    "a = []\n",
    "b = [1, 2, 3]\n",
    "c = ['Life', 'is', 'too', 'short']\n",
    "d = [1, 2, 'Life', 'is']\n",
    "e = [1, 2, ['Life', 'is']]\n",
    "a, b, c, d, e"
   ]
  },
  {
   "cell_type": "code",
   "execution_count": 4,
   "id": "dee404f7",
   "metadata": {},
   "outputs": [
    {
     "data": {
      "text/plain": [
       "([], list)"
      ]
     },
     "execution_count": 4,
     "metadata": {},
     "output_type": "execute_result"
    }
   ],
   "source": [
    "a = list()\n",
    "a, type(a)"
   ]
  },
  {
   "cell_type": "markdown",
   "id": "34dcd87a",
   "metadata": {},
   "source": [
    "## 리스트 인덱싱"
   ]
  },
  {
   "cell_type": "code",
   "execution_count": 5,
   "id": "c06ff963",
   "metadata": {},
   "outputs": [
    {
     "data": {
      "text/plain": [
       "[1, 2, 3]"
      ]
     },
     "execution_count": 5,
     "metadata": {},
     "output_type": "execute_result"
    }
   ],
   "source": [
    "a = [1, 2, 3]\n",
    "a"
   ]
  },
  {
   "cell_type": "code",
   "execution_count": 6,
   "id": "325e39ad",
   "metadata": {},
   "outputs": [
    {
     "data": {
      "text/plain": [
       "4"
      ]
     },
     "execution_count": 6,
     "metadata": {},
     "output_type": "execute_result"
    }
   ],
   "source": [
    "a[0] + a[2]"
   ]
  },
  {
   "cell_type": "code",
   "execution_count": 7,
   "id": "04fa0127",
   "metadata": {},
   "outputs": [
    {
     "data": {
      "text/plain": [
       "3"
      ]
     },
     "execution_count": 7,
     "metadata": {},
     "output_type": "execute_result"
    }
   ],
   "source": [
    "a[-1]"
   ]
  },
  {
   "cell_type": "code",
   "execution_count": 8,
   "id": "934cffdc",
   "metadata": {},
   "outputs": [],
   "source": [
    "a = [1, 2, 3, ['a', 'b', 'c']]"
   ]
  },
  {
   "cell_type": "code",
   "execution_count": 9,
   "id": "5b4d10eb",
   "metadata": {},
   "outputs": [
    {
     "data": {
      "text/plain": [
       "(1, ['a', 'b', 'c'], ['a', 'b', 'c'])"
      ]
     },
     "execution_count": 9,
     "metadata": {},
     "output_type": "execute_result"
    }
   ],
   "source": [
    "a[0], a[-1], a[3]"
   ]
  },
  {
   "cell_type": "markdown",
   "id": "8c0c9bf2",
   "metadata": {},
   "source": [
    "## 삼중 리스트 인덱싱"
   ]
  },
  {
   "cell_type": "code",
   "execution_count": 11,
   "id": "8781a2e0",
   "metadata": {},
   "outputs": [
    {
     "data": {
      "text/plain": [
       "'Life'"
      ]
     },
     "execution_count": 11,
     "metadata": {},
     "output_type": "execute_result"
    }
   ],
   "source": [
    "a = [1, 2, ['a', 'b', ['Life', 'is']]]\n",
    "a[2][2][0]"
   ]
  },
  {
   "cell_type": "markdown",
   "id": "59be2ac0",
   "metadata": {},
   "source": [
    "## 리스트의 슬라이싱"
   ]
  },
  {
   "cell_type": "code",
   "execution_count": 12,
   "id": "7fa7e4c1",
   "metadata": {},
   "outputs": [
    {
     "data": {
      "text/plain": [
       "[1, 2]"
      ]
     },
     "execution_count": 12,
     "metadata": {},
     "output_type": "execute_result"
    }
   ],
   "source": [
    "a = [1, 2, 3, 4, 5]\n",
    "a[0:2]"
   ]
  },
  {
   "cell_type": "code",
   "execution_count": 13,
   "id": "a0eb31ec",
   "metadata": {},
   "outputs": [
    {
     "data": {
      "text/plain": [
       "'12'"
      ]
     },
     "execution_count": 13,
     "metadata": {},
     "output_type": "execute_result"
    }
   ],
   "source": [
    "a = \"12345\"\n",
    "a[0:2]"
   ]
  },
  {
   "cell_type": "markdown",
   "id": "c8e9c5ee",
   "metadata": {},
   "source": [
    "## 중첩 리스트 슬라이싱"
   ]
  },
  {
   "cell_type": "code",
   "execution_count": 14,
   "id": "ff84652c",
   "metadata": {},
   "outputs": [],
   "source": [
    "a = [1, 2, 3, ['a', 'b', 'c'], 4, 5]"
   ]
  },
  {
   "cell_type": "code",
   "execution_count": 16,
   "id": "1869075b",
   "metadata": {},
   "outputs": [
    {
     "data": {
      "text/plain": [
       "([3, ['a', 'b', 'c'], 4], ['a', 'b'])"
      ]
     },
     "execution_count": 16,
     "metadata": {},
     "output_type": "execute_result"
    }
   ],
   "source": [
    "a[2:5], a[3][:2]"
   ]
  },
  {
   "cell_type": "markdown",
   "id": "a3021d7a",
   "metadata": {},
   "source": [
    "## del로 리스트 요소 삭제하기"
   ]
  },
  {
   "cell_type": "code",
   "execution_count": 17,
   "id": "61b46e39",
   "metadata": {},
   "outputs": [],
   "source": [
    "a = [1, 2, 3]"
   ]
  },
  {
   "cell_type": "code",
   "execution_count": 18,
   "id": "f2ad8482",
   "metadata": {},
   "outputs": [],
   "source": [
    "del a[1]"
   ]
  },
  {
   "cell_type": "code",
   "execution_count": 19,
   "id": "fce7cca9",
   "metadata": {},
   "outputs": [
    {
     "data": {
      "text/plain": [
       "[1, 3]"
      ]
     },
     "execution_count": 19,
     "metadata": {},
     "output_type": "execute_result"
    }
   ],
   "source": [
    "a"
   ]
  },
  {
   "cell_type": "code",
   "execution_count": 21,
   "id": "62da2ca7",
   "metadata": {},
   "outputs": [],
   "source": [
    "a = [1, 2, 3, 4, 5]\n",
    "del a[2:]"
   ]
  },
  {
   "cell_type": "code",
   "execution_count": 22,
   "id": "2c98fd5d",
   "metadata": {},
   "outputs": [
    {
     "data": {
      "text/plain": [
       "[1, 2]"
      ]
     },
     "execution_count": 22,
     "metadata": {},
     "output_type": "execute_result"
    }
   ],
   "source": [
    "a"
   ]
  },
  {
   "cell_type": "markdown",
   "id": "f0b6e3b6",
   "metadata": {},
   "source": [
    "## 리스트 관련 함수"
   ]
  },
  {
   "cell_type": "markdown",
   "id": "0f9bcbf8",
   "metadata": {},
   "source": [
    "### 리스트 요소 추가 append"
   ]
  },
  {
   "cell_type": "code",
   "execution_count": 23,
   "id": "234d1414",
   "metadata": {},
   "outputs": [
    {
     "data": {
      "text/plain": [
       "[1, 2, 3]"
      ]
     },
     "execution_count": 23,
     "metadata": {},
     "output_type": "execute_result"
    }
   ],
   "source": [
    "a = [1, 2, 3]\n",
    "a"
   ]
  },
  {
   "cell_type": "code",
   "execution_count": 24,
   "id": "80dd03e8",
   "metadata": {},
   "outputs": [
    {
     "data": {
      "text/plain": [
       "[1, 2, 3, 4]"
      ]
     },
     "execution_count": 24,
     "metadata": {},
     "output_type": "execute_result"
    }
   ],
   "source": [
    "a.append(4)\n",
    "a"
   ]
  },
  {
   "cell_type": "markdown",
   "id": "9b1ca873",
   "metadata": {},
   "source": [
    "### 리스트 정렬 sort"
   ]
  },
  {
   "cell_type": "code",
   "execution_count": 25,
   "id": "ff32b653",
   "metadata": {},
   "outputs": [
    {
     "data": {
      "text/plain": [
       "[1, 2, 3, 4]"
      ]
     },
     "execution_count": 25,
     "metadata": {},
     "output_type": "execute_result"
    }
   ],
   "source": [
    "a = [1, 4, 3, 2]\n",
    "a.sort()\n",
    "a"
   ]
  },
  {
   "cell_type": "markdown",
   "id": "7c84f183",
   "metadata": {},
   "source": [
    "### 리스트 뒤집기 reverse"
   ]
  },
  {
   "cell_type": "code",
   "execution_count": 27,
   "id": "c1b270ae",
   "metadata": {},
   "outputs": [],
   "source": [
    "a.sort(reverse=True) #True 예약어"
   ]
  },
  {
   "cell_type": "code",
   "execution_count": 28,
   "id": "536c0a86",
   "metadata": {},
   "outputs": [
    {
     "data": {
      "text/plain": [
       "[4, 3, 2, 1]"
      ]
     },
     "execution_count": 28,
     "metadata": {},
     "output_type": "execute_result"
    }
   ],
   "source": [
    "a"
   ]
  },
  {
   "cell_type": "markdown",
   "id": "aef8d179",
   "metadata": {},
   "source": [
    "### 인덱스 반환 - index"
   ]
  },
  {
   "cell_type": "code",
   "execution_count": 29,
   "id": "27a821ad",
   "metadata": {},
   "outputs": [
    {
     "data": {
      "text/plain": [
       "(2, 0)"
      ]
     },
     "execution_count": 29,
     "metadata": {},
     "output_type": "execute_result"
    }
   ],
   "source": [
    "a = [1, 2, 3]\n",
    "a.index(3), a.index(1)"
   ]
  },
  {
   "cell_type": "markdown",
   "id": "48034796",
   "metadata": {},
   "source": [
    "### 리스트에 요소 삽입 - insert"
   ]
  },
  {
   "cell_type": "code",
   "execution_count": 30,
   "id": "d49cb4ca",
   "metadata": {},
   "outputs": [
    {
     "data": {
      "text/plain": [
       "[4, 1, 2, 3]"
      ]
     },
     "execution_count": 30,
     "metadata": {},
     "output_type": "execute_result"
    }
   ],
   "source": [
    "a = [1, 2, 3]\n",
    "a.insert(0, 4)\n",
    "a"
   ]
  },
  {
   "cell_type": "markdown",
   "id": "fa471aec",
   "metadata": {},
   "source": [
    "### 리스트 요소 제거 - remove"
   ]
  },
  {
   "cell_type": "code",
   "execution_count": 32,
   "id": "cbf0e7a9",
   "metadata": {},
   "outputs": [
    {
     "data": {
      "text/plain": [
       "[1, 2, 1, 2, 3]"
      ]
     },
     "execution_count": 32,
     "metadata": {},
     "output_type": "execute_result"
    }
   ],
   "source": [
    "a = [1, 2, 3, 1, 2, 3]\n",
    "a.remove(3)\n",
    "a"
   ]
  },
  {
   "cell_type": "markdown",
   "id": "f8684ce0",
   "metadata": {},
   "source": [
    "### pop"
   ]
  },
  {
   "cell_type": "code",
   "execution_count": 33,
   "id": "cf0d1000",
   "metadata": {},
   "outputs": [
    {
     "data": {
      "text/plain": [
       "3"
      ]
     },
     "execution_count": 33,
     "metadata": {},
     "output_type": "execute_result"
    }
   ],
   "source": [
    "a = [1, 2, 3]\n",
    "a.pop()"
   ]
  },
  {
   "cell_type": "markdown",
   "id": "c8070de0",
   "metadata": {},
   "source": [
    "### count"
   ]
  },
  {
   "cell_type": "code",
   "execution_count": 34,
   "id": "48ecb249",
   "metadata": {},
   "outputs": [
    {
     "data": {
      "text/plain": [
       "2"
      ]
     },
     "execution_count": 34,
     "metadata": {},
     "output_type": "execute_result"
    }
   ],
   "source": [
    "a = [1, 2, 3, 1]\n",
    "a.count(1)"
   ]
  },
  {
   "cell_type": "markdown",
   "id": "951bf388",
   "metadata": {},
   "source": [
    "### extend"
   ]
  },
  {
   "cell_type": "code",
   "execution_count": null,
   "id": "de20ab40",
   "metadata": {},
   "outputs": [],
   "source": []
  },
  {
   "cell_type": "markdown",
   "id": "935f19f0",
   "metadata": {},
   "source": [
    "튜플 요소 삭제/qusrud tlh"
   ]
  },
  {
   "cell_type": "markdown",
   "id": "848bacf1",
   "metadata": {},
   "source": [
    "## 딕셔너리 관련 함수"
   ]
  },
  {
   "cell_type": "code",
   "execution_count": 35,
   "id": "f9fc8268",
   "metadata": {},
   "outputs": [
    {
     "ename": "SyntaxError",
     "evalue": "invalid syntax (1724862625.py, line 2)",
     "output_type": "error",
     "traceback": [
      "\u001b[1;36m  Cell \u001b[1;32mIn[35], line 2\u001b[1;36m\u001b[0m\n\u001b[1;33m    a.\u001b[0m\n\u001b[1;37m      ^\u001b[0m\n\u001b[1;31mSyntaxError\u001b[0m\u001b[1;31m:\u001b[0m invalid syntax\n"
     ]
    }
   ],
   "source": [
    "# keys\n",
    "a."
   ]
  },
  {
   "cell_type": "code",
   "execution_count": 36,
   "id": "0b264b56",
   "metadata": {},
   "outputs": [
    {
     "data": {
      "text/plain": [
       "(str, list, tuple, dict)"
      ]
     },
     "execution_count": 36,
     "metadata": {},
     "output_type": "execute_result"
    }
   ],
   "source": [
    "a1= 'str'\n",
    "a2 = [1,2,3]\n",
    "a3 = (1,)\n",
    "a4 = {1:'a'}\n",
    "type(a1), type(a2), type(a3), type(a4)"
   ]
  },
  {
   "cell_type": "code",
   "execution_count": 37,
   "id": "7a55daad",
   "metadata": {},
   "outputs": [
    {
     "data": {
      "text/plain": [
       "dict_keys(['name', 'phone', 'birth'])"
      ]
     },
     "execution_count": 37,
     "metadata": {},
     "output_type": "execute_result"
    }
   ],
   "source": [
    "a = {'name': 'pey', 'phone': '010-9999-1234', 'birth': '1118'}\n",
    "a.keys()"
   ]
  },
  {
   "cell_type": "code",
   "execution_count": 38,
   "id": "7f595f1c",
   "metadata": {},
   "outputs": [
    {
     "name": "stdout",
     "output_type": "stream",
     "text": [
      "name\n",
      "phone\n",
      "birth\n"
     ]
    }
   ],
   "source": [
    "for k in a.keys():\n",
    "    print(k)"
   ]
  },
  {
   "cell_type": "code",
   "execution_count": 39,
   "id": "bc4a356c",
   "metadata": {},
   "outputs": [
    {
     "data": {
      "text/plain": [
       "({}, dict)"
      ]
     },
     "execution_count": 39,
     "metadata": {},
     "output_type": "execute_result"
    }
   ],
   "source": [
    "a = dict()\n",
    "a, type(a)"
   ]
  },
  {
   "cell_type": "markdown",
   "id": "21722cac",
   "metadata": {},
   "source": [
    "## 집합 자료형"
   ]
  },
  {
   "cell_type": "code",
   "execution_count": 40,
   "id": "95eec1b1",
   "metadata": {},
   "outputs": [
    {
     "data": {
      "text/plain": [
       "({1, 2, 3}, set)"
      ]
     },
     "execution_count": 40,
     "metadata": {},
     "output_type": "execute_result"
    }
   ],
   "source": [
    "s1 = set([1, 2, 3])\n",
    "s1, type(s1)"
   ]
  },
  {
   "cell_type": "code",
   "execution_count": 41,
   "id": "059d71a8",
   "metadata": {},
   "outputs": [
    {
     "data": {
      "text/plain": [
       "({'H', 'e', 'l', 'o'}, set)"
      ]
     },
     "execution_count": 41,
     "metadata": {},
     "output_type": "execute_result"
    }
   ],
   "source": [
    "s2 = set(\"Hello\")\n",
    "s2, type(s2)"
   ]
  },
  {
   "cell_type": "code",
   "execution_count": null,
   "id": "f4e3e6df",
   "metadata": {},
   "outputs": [],
   "source": []
  }
 ],
 "metadata": {
  "kernelspec": {
   "display_name": "Python 3 (ipykernel)",
   "language": "python",
   "name": "python3"
  },
  "language_info": {
   "codemirror_mode": {
    "name": "ipython",
    "version": 3
   },
   "file_extension": ".py",
   "mimetype": "text/x-python",
   "name": "python",
   "nbconvert_exporter": "python",
   "pygments_lexer": "ipython3",
   "version": "3.11.5"
  }
 },
 "nbformat": 4,
 "nbformat_minor": 5
}
