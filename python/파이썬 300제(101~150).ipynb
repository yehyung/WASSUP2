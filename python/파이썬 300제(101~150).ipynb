{
 "cells": [
  {
   "cell_type": "markdown",
   "id": "7272cdfc",
   "metadata": {},
   "source": [
    "### 101\n",
    "파이썬에서 True 혹은 False를 갖는 데이터 타입은 무엇인가?"
   ]
  },
  {
   "cell_type": "code",
   "execution_count": 1,
   "id": "dc27c1c7",
   "metadata": {},
   "outputs": [],
   "source": [
    "# bool"
   ]
  },
  {
   "cell_type": "markdown",
   "id": "d9215ab9",
   "metadata": {},
   "source": [
    "### 102\n",
    "아래 코드의 출력 결과를 예상하라"
   ]
  },
  {
   "cell_type": "code",
   "execution_count": 2,
   "id": "8d9d57ae",
   "metadata": {},
   "outputs": [
    {
     "name": "stdout",
     "output_type": "stream",
     "text": [
      "False\n"
     ]
    }
   ],
   "source": [
    "print(3 == 5)\n",
    "\n",
    "# False"
   ]
  },
  {
   "cell_type": "markdown",
   "id": "6211579d",
   "metadata": {},
   "source": [
    "### 103\n",
    "아래 코드의 출력 결과를 예상하라"
   ]
  },
  {
   "cell_type": "code",
   "execution_count": 3,
   "id": "b493913f",
   "metadata": {},
   "outputs": [
    {
     "name": "stdout",
     "output_type": "stream",
     "text": [
      "True\n"
     ]
    }
   ],
   "source": [
    "print(3 < 5)\n",
    "\n",
    "# True"
   ]
  },
  {
   "cell_type": "markdown",
   "id": "f606a3c1",
   "metadata": {},
   "source": [
    "### 104\n",
    "아래 코드의 결과를 예상하라."
   ]
  },
  {
   "cell_type": "code",
   "execution_count": 4,
   "id": "d4010a10",
   "metadata": {},
   "outputs": [
    {
     "name": "stdout",
     "output_type": "stream",
     "text": [
      "True\n"
     ]
    }
   ],
   "source": [
    "x = 4\n",
    "print(1 < x < 5)\n",
    "\n",
    "# True"
   ]
  },
  {
   "cell_type": "markdown",
   "id": "bbd8c380",
   "metadata": {},
   "source": [
    "### 105\n",
    "아래 코드의 결과를 예상하라."
   ]
  },
  {
   "cell_type": "code",
   "execution_count": 5,
   "id": "0674947d",
   "metadata": {},
   "outputs": [
    {
     "name": "stdout",
     "output_type": "stream",
     "text": [
      "True\n"
     ]
    }
   ],
   "source": [
    "print ((3 == 3) and (4 != 3))\n",
    "\n",
    "# True"
   ]
  },
  {
   "cell_type": "markdown",
   "id": "d093059d",
   "metadata": {},
   "source": [
    "### 106\n",
    "아래 코드에서 에러가 발생하는 원인에 대해 설명하라."
   ]
  },
  {
   "cell_type": "code",
   "execution_count": null,
   "id": "65a3aef2",
   "metadata": {},
   "outputs": [],
   "source": [
    "print(3 => 4)\n",
    "\n",
    "# 3>=4 연산자가 잘못됨"
   ]
  },
  {
   "cell_type": "markdown",
   "id": "0d387aaa",
   "metadata": {},
   "source": [
    "### 107\n",
    "아래 코드의 출력 결과를 예상하라"
   ]
  },
  {
   "cell_type": "code",
   "execution_count": 6,
   "id": "c4aef0b1",
   "metadata": {},
   "outputs": [],
   "source": [
    "if 4 < 3:\n",
    "    print(\"Hello World\")\n",
    "\n",
    "# nothing"
   ]
  },
  {
   "cell_type": "markdown",
   "id": "905f2ba7",
   "metadata": {},
   "source": [
    "### 108\n",
    "아래 코드의 출력 결과를 예상하라"
   ]
  },
  {
   "cell_type": "code",
   "execution_count": 7,
   "id": "f80a854e",
   "metadata": {},
   "outputs": [
    {
     "name": "stdout",
     "output_type": "stream",
     "text": [
      "Hi, there.\n"
     ]
    }
   ],
   "source": [
    "if 4 < 3:\n",
    "    print(\"Hello World.\")\n",
    "else:\n",
    "    print(\"Hi, there.\")\n",
    "\n",
    "# Hi, there."
   ]
  },
  {
   "cell_type": "markdown",
   "id": "6dd5f584",
   "metadata": {},
   "source": [
    "### 109\n",
    "아래 코드의 출력 결과를 예상하라"
   ]
  },
  {
   "cell_type": "code",
   "execution_count": 8,
   "id": "307ad386",
   "metadata": {},
   "outputs": [
    {
     "name": "stdout",
     "output_type": "stream",
     "text": [
      "1\n",
      "2\n",
      "4\n"
     ]
    }
   ],
   "source": [
    "if True :\n",
    "    print (\"1\")\n",
    "    print (\"2\")\n",
    "else :\n",
    "    print(\"3\")\n",
    "print(\"4\")\n",
    "\n",
    "# 1 2 4"
   ]
  },
  {
   "cell_type": "markdown",
   "id": "6fd6a5ed",
   "metadata": {},
   "source": [
    "### 110\n",
    "아래 코드의 출력 결과를 예상하라"
   ]
  },
  {
   "cell_type": "code",
   "execution_count": 9,
   "id": "1164c17f",
   "metadata": {},
   "outputs": [
    {
     "name": "stdout",
     "output_type": "stream",
     "text": [
      "3\n",
      "5\n"
     ]
    }
   ],
   "source": [
    "if True :\n",
    "    if False:\n",
    "        print(\"1\")\n",
    "        print(\"2\")\n",
    "    else:\n",
    "        print(\"3\")\n",
    "else :\n",
    "    print(\"4\")\n",
    "print(\"5\")\n",
    "\n",
    "# 3 5"
   ]
  },
  {
   "cell_type": "markdown",
   "id": "2440eccd",
   "metadata": {},
   "source": [
    "### 111\n",
    "사용자로부터 입력받은 문자열을 두 번 출력하라. 아래는 사용자가 \"안녕하세요\"를 입력한 경우의 출력 결과이다."
   ]
  },
  {
   "cell_type": "code",
   "execution_count": 11,
   "id": "723cdf62",
   "metadata": {},
   "outputs": [
    {
     "name": "stdout",
     "output_type": "stream",
     "text": [
      "안녕하세요\n",
      "안녕하세요안녕하세요\n"
     ]
    }
   ],
   "source": [
    "result = input()\n",
    "print(result*2)"
   ]
  },
  {
   "cell_type": "markdown",
   "id": "46c57610",
   "metadata": {},
   "source": [
    "### 112\n",
    "사용자로부터 하나의 숫자를 입력받고, 입력 받은 숫자에 10을 더해 출력하라."
   ]
  },
  {
   "cell_type": "code",
   "execution_count": 13,
   "id": "92ddb53a",
   "metadata": {},
   "outputs": [
    {
     "name": "stdout",
     "output_type": "stream",
     "text": [
      "숫자를 입력하세요:30\n",
      "40\n"
     ]
    }
   ],
   "source": [
    "num = int(input(\"숫자를 입력하세요:\"))\n",
    "print(num+10)"
   ]
  },
  {
   "cell_type": "markdown",
   "id": "8fb65dd1",
   "metadata": {},
   "source": [
    "### 113\n",
    "사용자로부터 하나의 숫자를 입력 받고 짝수/홀수를 판별하라."
   ]
  },
  {
   "cell_type": "code",
   "execution_count": 14,
   "id": "9d9de444",
   "metadata": {},
   "outputs": [
    {
     "name": "stdout",
     "output_type": "stream",
     "text": [
      "숫자를 입력하세요:2\n",
      "짝수\n"
     ]
    }
   ],
   "source": [
    "num = int(input(\"숫자를 입력하세요:\"))\n",
    "\n",
    "if num%2 ==0:\n",
    "    print(\"짝수\")\n",
    "else:\n",
    "    pritn(\"홀수\")"
   ]
  },
  {
   "cell_type": "markdown",
   "id": "913b66e8",
   "metadata": {},
   "source": [
    "### 114\n",
    "사용자로부터 값을 입력받은 후 해당 값에 20을 더한 값을 출력하라. 단 사용자가 입력한 값과 20을 더한 계산 값이 255를 초과하는 경우 255를 출력해야 한다."
   ]
  },
  {
   "cell_type": "code",
   "execution_count": 16,
   "id": "e179f2f2",
   "metadata": {},
   "outputs": [
    {
     "name": "stdout",
     "output_type": "stream",
     "text": [
      "숫자를 입력하세요:240\n",
      "255\n"
     ]
    }
   ],
   "source": [
    "num = int(input(\"숫자를 입력하세요:\"))\n",
    "if num+20>255:\n",
    "    print(255)\n",
    "else:\n",
    "    print(num+20)"
   ]
  },
  {
   "cell_type": "markdown",
   "id": "15ddb1ce",
   "metadata": {},
   "source": [
    "### 115\n",
    "사용자로부터 하나의 값을 입력받은 후 해당 값에 20을 뺀 값을 출력하라. 단 출력 값의 범위는 0~255이다. 예를 들어 결괏값이 0보다 작은 값이되는 경우 0을 출력하고 255보다 큰 값이 되는 경우 255를 출력해야 한다."
   ]
  },
  {
   "cell_type": "code",
   "execution_count": 18,
   "id": "0e8475ff",
   "metadata": {},
   "outputs": [
    {
     "name": "stdout",
     "output_type": "stream",
     "text": [
      "숫자를 입력하세요:15\n",
      "0\n"
     ]
    }
   ],
   "source": [
    "num = int(input(\"숫자를 입력하세요:\"))\n",
    "result = num-20\n",
    "\n",
    "if result<0:\n",
    "    print(0)\n",
    "elif result>255:\n",
    "    print(255)\n",
    "else:\n",
    "    print(result)"
   ]
  },
  {
   "cell_type": "markdown",
   "id": "ea819054",
   "metadata": {},
   "source": [
    "### 116\n",
    "사용자로부터 입력 받은 시간이 정각인지 판별하라."
   ]
  },
  {
   "cell_type": "code",
   "execution_count": 21,
   "id": "b8feb2e6",
   "metadata": {},
   "outputs": [
    {
     "name": "stdout",
     "output_type": "stream",
     "text": [
      "현재시간: 03:10\n",
      "정각이 아닙니다.\n"
     ]
    }
   ],
   "source": [
    "time = input(\"현재시간: \")\n",
    "\n",
    "if time[3:] == \"00\":\n",
    "    print(\"정각 입니다.\")\n",
    "else:\n",
    "    print(\"정각이 아닙니다.\")"
   ]
  },
  {
   "cell_type": "markdown",
   "id": "a0e23ceb",
   "metadata": {},
   "source": [
    "### 117\n",
    "사용자로 입력받은 단어가 아래 fruit 리스트에 포함되어 있는지를 확인하라. 포함되었다면 \"정답입니다\"를 아닐 경우 \"오답입니다\" 출력하라.\n",
    "\n"
   ]
  },
  {
   "cell_type": "code",
   "execution_count": 25,
   "id": "953642fd",
   "metadata": {},
   "outputs": [
    {
     "name": "stdout",
     "output_type": "stream",
     "text": [
      "좋아하는 과일은? 과일\n",
      "오답입니다.\n"
     ]
    }
   ],
   "source": [
    "fruit = [\"사과\", \"포도\", \"홍시\"]\n",
    "\n",
    "result = input(\"좋아하는 과일은? \")\n",
    "\n",
    "if result in fruit:\n",
    "    print(\"정답입니다.\")\n",
    "else:\n",
    "    print(\"오답입니다.\")"
   ]
  },
  {
   "cell_type": "markdown",
   "id": "eb414fa8",
   "metadata": {},
   "source": [
    "### 118\n",
    "투자 경고 종목 리스트가 있을 때 사용자로부터 종목명을 입력 받은 후 해당 종목이 투자 경고 종목이라면 '투자 경고 종목입니다'를 아니면 \"투자 경고 종목이 아닙니다.\"를 출력하는 프로그램을 작성하라."
   ]
  },
  {
   "cell_type": "code",
   "execution_count": 27,
   "id": "b5439043",
   "metadata": {},
   "outputs": [
    {
     "name": "stdout",
     "output_type": "stream",
     "text": [
      "종목을 입력하세요: k\n",
      "투자 경고 종목이 아닙니다.\n"
     ]
    }
   ],
   "source": [
    "warn_investment_list = [\"Microsoft\", \"Google\", \"Naver\", \"Kakao\", \"SAMSUNG\", \"LG\"]\n",
    "\n",
    "result = input(\"종목을 입력하세요: \")\n",
    "\n",
    "if result in warn_investment_list:\n",
    "    print(\"투자 경고 종목입니다.\")\n",
    "else:\n",
    "    print(\"투자 경고 종목이 아닙니다.\")"
   ]
  },
  {
   "cell_type": "markdown",
   "id": "a060c2e0",
   "metadata": {},
   "source": [
    "### 119\n",
    "아래와 같이 fruit 딕셔너리가 정의되어 있다. 사용자가 입력한 값이 딕셔너리 키 (key) 값에 포함되었다면 \"정답입니다\"를 아닐 경우 \"오답입니다\" 출력하라."
   ]
  },
  {
   "cell_type": "code",
   "execution_count": 29,
   "id": "bcc5be21",
   "metadata": {},
   "outputs": [
    {
     "name": "stdout",
     "output_type": "stream",
     "text": [
      "제가좋아하는계절은: 봄\n",
      "정답입니다.\n"
     ]
    }
   ],
   "source": [
    "fruit = {\"봄\" : \"딸기\", \"여름\" : \"토마토\", \"가을\" : \"사과\"}\n",
    "\n",
    "result = input(\"제가좋아하는계절은: \")\n",
    "\n",
    "if result in fruit:\n",
    "    print(\"정답입니다.\")\n",
    "else:\n",
    "    print(\"오답입니다.\")"
   ]
  },
  {
   "cell_type": "markdown",
   "id": "1eb9483b",
   "metadata": {},
   "source": [
    "### 120\n",
    "아래와 같이 fruit 딕셔너리가 정의되어 있다. 사용자가 입력한 값이 딕셔너리 값 (value)에 포함되었다면 \"정답입니다\"를 아닐 경우 \"오답입니다\" 출력하라."
   ]
  },
  {
   "cell_type": "code",
   "execution_count": 31,
   "id": "13da76a7",
   "metadata": {},
   "outputs": [
    {
     "name": "stdout",
     "output_type": "stream",
     "text": [
      "좋아하는과일은?: 딸기\n",
      "정답입니다.\n"
     ]
    }
   ],
   "source": [
    "fruit = {\"봄\" : \"딸기\", \"여름\" : \"토마토\", \"가을\" : \"사과\"}\n",
    "\n",
    "result = input(\"좋아하는과일은?: \")\n",
    "\n",
    "if result in fruit.values():\n",
    "    print(\"정답입니다.\")\n",
    "else:\n",
    "    print(\"오답입니다.\")"
   ]
  },
  {
   "cell_type": "markdown",
   "id": "15b2c9bb",
   "metadata": {},
   "source": [
    "### 121\n",
    "사용자로부터 문자 한 개를 입력 받고, 소문자일 경우 대문자로, 대문자 일 경우, 소문자로 변경해서 출력하라."
   ]
  },
  {
   "cell_type": "code",
   "execution_count": 34,
   "id": "d69a1cbd",
   "metadata": {},
   "outputs": [
    {
     "name": "stdout",
     "output_type": "stream",
     "text": [
      "A\n",
      "a\n"
     ]
    }
   ],
   "source": [
    "letter = input()\n",
    "\n",
    "if letter.islower() == True:\n",
    "    print(letter.upper())\n",
    "else:\n",
    "    print(letter.lower())"
   ]
  },
  {
   "cell_type": "markdown",
   "id": "f3adca78",
   "metadata": {},
   "source": [
    "### 122\n",
    "점수 구간에 해당하는 학점이 아래와 같이 정의되어 있다. 사용자로부터 score를 입력받아 학점을 출력하라."
   ]
  },
  {
   "cell_type": "code",
   "execution_count": 37,
   "id": "71ee17a3",
   "metadata": {},
   "outputs": [
    {
     "name": "stdout",
     "output_type": "stream",
     "text": [
      "score: 83\n",
      "A\n"
     ]
    }
   ],
   "source": [
    "score = int(input(\"score: \"))\n",
    "\n",
    "if score>80 & score<=100:\n",
    "    print(\"A\")\n",
    "elif score>60 & score<=80:\n",
    "    print(\"B\")\n",
    "elif score>40 & score<=60:\n",
    "    print(\"C\")\n",
    "elif score>20 & score<=40:\n",
    "    print(\"D\")\n",
    "else:\n",
    "    print(\"E\")"
   ]
  },
  {
   "cell_type": "markdown",
   "id": "6f26ed47",
   "metadata": {},
   "source": [
    "### 123\n",
    "사용자로부터 달러, 엔, 유로, 또는 위안 금액을 입력받은 후 이를 원으로 변환하는 프로그램을 작성하라. 각 통화별 환율은 다음과 같다. 사용자는 100 달러, 1000 엔, 13 유로, 100 위안과 같이 금액과 통화명 사이에 공백을 넣어 입력한다고 가정한다.\n",
    "\n"
   ]
  },
  {
   "cell_type": "code",
   "execution_count": 40,
   "id": "9d7104fe",
   "metadata": {},
   "outputs": [
    {
     "name": "stdout",
     "output_type": "stream",
     "text": [
      "입력: 100 달러\n",
      "116700 원\n"
     ]
    }
   ],
   "source": [
    "money, currency = input(\"입력: \").split(\" \")\n",
    "money = int(money)\n",
    "\n",
    "if currency == '달러':\n",
    "    print(f\"{money*1167} 원\")\n",
    "elif currency == '엔':\n",
    "    print(f\"{money*1.096} 원\")\n",
    "elif currency == '유로':\n",
    "    print(f\"{money*1268} 원\")\n",
    "elif currency == '위안':\n",
    "    print(f\"{money*71} 원\")\n"
   ]
  },
  {
   "cell_type": "code",
   "execution_count": 44,
   "id": "308714c4",
   "metadata": {},
   "outputs": [
    {
     "name": "stdout",
     "output_type": "stream",
     "text": [
      "입력: 100 달러\n",
      "116700.0 원\n"
     ]
    }
   ],
   "source": [
    "temp = {\"달러\": 1167, \n",
    "        \"엔\": 1.096, \n",
    "        \"유로\": 1268, \n",
    "        \"위안\": 171}\n",
    "\n",
    "money, currency = input(\"입력: \").split(\" \")\n",
    "print(float(money)*temp[currency], \"원\")"
   ]
  },
  {
   "cell_type": "markdown",
   "id": "e7f45f06",
   "metadata": {},
   "source": [
    "### 124\n",
    "사용자로부터 세 개의 숫자를 입력 받은 후 가장 큰 숫자를 출력하라."
   ]
  },
  {
   "cell_type": "code",
   "execution_count": 47,
   "id": "08d7b552",
   "metadata": {},
   "outputs": [
    {
     "name": "stdout",
     "output_type": "stream",
     "text": [
      "input number1: 10\n",
      "input number2: 9\n",
      "input number3: 20\n",
      "20\n"
     ]
    }
   ],
   "source": [
    "num1 = int(input(\"input number1: \"))\n",
    "num2 = int(input(\"input number2: \"))\n",
    "num3 = int(input(\"input number3: \"))\n",
    "\n",
    "temp = [num1, num2, num3]\n",
    "print(max(temp))"
   ]
  },
  {
   "cell_type": "code",
   "execution_count": 48,
   "id": "0393d3d5",
   "metadata": {},
   "outputs": [
    {
     "name": "stdout",
     "output_type": "stream",
     "text": [
      "input number1: 10\n",
      "input number2: 9\n",
      "input number3: 20\n",
      "20\n"
     ]
    }
   ],
   "source": [
    "num1 = int(input(\"input number1: \"))\n",
    "num2 = int(input(\"input number2: \"))\n",
    "num3 = int(input(\"input number3: \"))\n",
    "\n",
    "if num1>=num2 & num1>=num3:\n",
    "    print(num1)\n",
    "elif num2>=num1 & num2>=num3:\n",
    "    print(num2)\n",
    "else:\n",
    "    print(num3)"
   ]
  },
  {
   "cell_type": "markdown",
   "id": "20a3a06c",
   "metadata": {},
   "source": [
    "### 125\n",
    "휴대폰 번호 앞자리에 따라 통신사는 아래와 같이 구분된다. 사용자로부터 휴대전화 번호를 입력 받고, 통신사를 출력하는 프로그램을 작성하라."
   ]
  },
  {
   "cell_type": "code",
   "execution_count": 51,
   "id": "b18f219c",
   "metadata": {},
   "outputs": [
    {
     "name": "stdout",
     "output_type": "stream",
     "text": [
      "휴대전화 번호 입력: 011-345-1922\n",
      "당신은 SKT 사용자입니다.\n"
     ]
    }
   ],
   "source": [
    "phone = {\n",
    "    \"011\":\"SKT\",\n",
    "    \"016\":\"KT\",\n",
    "    \"019\":\"LGU\",\n",
    "    \"010\":\"알수없음\"\n",
    "}\n",
    "\n",
    "num = input(\"휴대전화 번호 입력: \")\n",
    "\n",
    "print(f\"당신은 {phone[num[:3]]} 사용자입니다.\")"
   ]
  },
  {
   "cell_type": "markdown",
   "id": "7b970fe3",
   "metadata": {},
   "source": [
    "### 126\n",
    "우편번호는 5자리로 구성되는데, 앞의 세자리는 구를 나타낸다. 예를들어, 강북구의 경우 010, 011, 012 세 자리로 시작한다."
   ]
  },
  {
   "cell_type": "code",
   "execution_count": 59,
   "id": "1cbb588a",
   "metadata": {},
   "outputs": [
    {
     "name": "stdout",
     "output_type": "stream",
     "text": [
      "우편번호: 01400\n",
      "4\n",
      "도봉구\n"
     ]
    }
   ],
   "source": [
    "num = input(\"우편번호: \")\n",
    "result = int(num[2])\n",
    "\n",
    "if result == 0 or result == 1 or result == 2:\n",
    "    print(\"강북구\")\n",
    "elif result == 3 or result == 4 or result == 5:\n",
    "    print(\"도봉구\")\n",
    "else:\n",
    "    print(\"노원구\")\n"
   ]
  },
  {
   "cell_type": "code",
   "execution_count": 57,
   "id": "0a8f6b15",
   "metadata": {},
   "outputs": [
    {
     "name": "stdout",
     "output_type": "stream",
     "text": [
      "우편번호: 01400\n",
      "도봉구\n"
     ]
    }
   ],
   "source": [
    "num = input(\"우편번호: \")\n",
    "result = num[2]\n",
    "\n",
    "if result in ['1', '2', '3']:\n",
    "    print(\"강북구\")\n",
    "elif result in ['4', '5', '6']:\n",
    "    print(\"도봉구\")\n",
    "else:\n",
    "    print(\"노원구\")"
   ]
  },
  {
   "cell_type": "markdown",
   "id": "ef8d8297",
   "metadata": {},
   "source": [
    "### 127\n",
    "주민등록번호 뒷 자리 7자리 중 첫째 자리는 성별을 나타내는데, 1, 3은 남자 2, 4는 여자를 의미한다. 사용자로부터 13자리의 주민등록번호를 입력 받은 후 성별 (남자, 여자)를 출력하는 프로그램을 작성하라."
   ]
  },
  {
   "cell_type": "code",
   "execution_count": 62,
   "id": "beba9706",
   "metadata": {},
   "outputs": [
    {
     "name": "stdout",
     "output_type": "stream",
     "text": [
      "주민등록번호: 821010-3635210\n",
      "남자\n"
     ]
    }
   ],
   "source": [
    "num = input(\"주민등록번호: \")\n",
    "result = num[7]\n",
    "\n",
    "if result in ['1', '3']:\n",
    "    print(\"남자\")\n",
    "else:\n",
    "    print(\"여자\")"
   ]
  },
  {
   "cell_type": "markdown",
   "id": "75d80f1d",
   "metadata": {},
   "source": [
    "### 128\n",
    "주민등록번호의 뒷 자리 7자리 중 두번째와 세번째는 지역코드를 의미한다. 주민 등록 번호를 입력 받은 후 출생지가 서울인지 아닌지 판단하는 코드를 작성하라"
   ]
  },
  {
   "cell_type": "code",
   "execution_count": 67,
   "id": "c903ade4",
   "metadata": {},
   "outputs": [
    {
     "name": "stdout",
     "output_type": "stream",
     "text": [
      "주민등록번호: 861010-1015210\n",
      "서울 입니다.\n"
     ]
    }
   ],
   "source": [
    "num = input(\"주민등록번호: \")\n",
    "result = num[8:10]\n",
    "\n",
    "if result in ['00', '01', '02', '03', '04', '05', '06', '07', '08']:\n",
    "    print(\"서울 입니다.\")\n",
    "else:\n",
    "    print(\"서울이 아닙니다.\")"
   ]
  },
  {
   "cell_type": "markdown",
   "id": "0ea3ef53",
   "metadata": {},
   "source": [
    "### 129\n",
    "주민등록번호는 13자리로 구성되는데 마지막 자리수는 주민등록번호의 유효성을 체크하는데 사용된다. 먼저 앞에서부터 12자리의 숫자에 2, 3, 4, 5, 6, 7, 8, 9, 2, 3, 4, 5를 차례로 곱한 뒤 그 값을 전부 더한다. 연산 결과 값을 11로 나누면 나머지가 나오는데 11에서 나머지를 뺀 값이 주민등록번호의 마지막 번호가 된다."
   ]
  },
  {
   "cell_type": "code",
   "execution_count": 71,
   "id": "f3d1e439",
   "metadata": {},
   "outputs": [
    {
     "name": "stdout",
     "output_type": "stream",
     "text": [
      "주민등록번호: 821010-1635210\n",
      "유효하지 않은 주민등록번호입니다. \n"
     ]
    }
   ],
   "source": [
    "num = input(\"주민등록번호: \")\n",
    "\n",
    "result1 = int(num[0]) * 2 + int(num[1]) * 3 + int(num[2]) * 4 + int(num[3]) * 5 + int(num[4]) * 6 + \\\n",
    "        int(num[5]) * 7 + int(num[7]) * 8 + int(num[8]) * 9 + int(num[9]) * 2 + int(num[10])* 3 + \\\n",
    "        int(num[11])* 4 + int(num[12]) * 5\n",
    "result2 = str(11-(result1%11))\n",
    "\n",
    "if result2 == num[-1]:\n",
    "    print(\"유효한 주민등록번호입니다. \")\n",
    "else:\n",
    "    print(\"유효하지 않은 주민등록번호입니다. \")"
   ]
  },
  {
   "cell_type": "markdown",
   "id": "f295637f",
   "metadata": {},
   "source": [
    "### 130\n",
    "아래 코드는 비트코인의 가격 정보를 딕셔너리로 가져오는 코드이다."
   ]
  },
  {
   "cell_type": "code",
   "execution_count": 74,
   "id": "fa6ad85b",
   "metadata": {},
   "outputs": [
    {
     "name": "stdout",
     "output_type": "stream",
     "text": [
      "상승장\n"
     ]
    }
   ],
   "source": [
    "import requests\n",
    "btc = requests.get(\"https://api.bithumb.com/public/ticker/\").json()['data']\n",
    "\n",
    "# 변동폭 = 최고가 - 최저가\n",
    "# 상승장 = (시가 + 변동폭)>최고가\n",
    "# 하락장\n",
    "\n",
    "diff = float(btc['max_price']) - float(btc['min_price'])\n",
    "cond = (float(btc['opening_price']) + diff ) > float(btc['max_price'])\n",
    "\n",
    "if cond:\n",
    "    print(\"상승장\")\n",
    "else:\n",
    "    print(\"하락장\")"
   ]
  },
  {
   "cell_type": "markdown",
   "id": "ba78ce64",
   "metadata": {},
   "source": [
    "### 131\n",
    "for문의 실행결과를 예측하라."
   ]
  },
  {
   "cell_type": "code",
   "execution_count": 75,
   "id": "3ffc27f3",
   "metadata": {},
   "outputs": [
    {
     "name": "stdout",
     "output_type": "stream",
     "text": [
      "사과\n",
      "귤\n",
      "수박\n"
     ]
    }
   ],
   "source": [
    "과일 = [\"사과\", \"귤\", \"수박\"]\n",
    "for 변수 in 과일:\n",
    "    print(변수)\n",
    "\n",
    "# 사과 귤 수박"
   ]
  },
  {
   "cell_type": "markdown",
   "id": "d02e14c1",
   "metadata": {},
   "source": [
    "### 132\n",
    "for문의 실행결과를 예측하라."
   ]
  },
  {
   "cell_type": "code",
   "execution_count": 76,
   "id": "1356d720",
   "metadata": {},
   "outputs": [
    {
     "name": "stdout",
     "output_type": "stream",
     "text": [
      "#####\n",
      "#####\n",
      "#####\n"
     ]
    }
   ],
   "source": [
    "과일 = [\"사과\", \"귤\", \"수박\"]\n",
    "for 변수 in 과일:\n",
    "  print(\"#####\")\n",
    "\n",
    "# ##### ##### #####"
   ]
  },
  {
   "cell_type": "markdown",
   "id": "6453d548",
   "metadata": {},
   "source": [
    "### 133\n",
    "다음 for 문과 동일한 기능을 수행하는 코드를 작성하세요."
   ]
  },
  {
   "cell_type": "code",
   "execution_count": 78,
   "id": "0fc3fbb5",
   "metadata": {},
   "outputs": [
    {
     "name": "stdout",
     "output_type": "stream",
     "text": [
      "A\n",
      "B\n",
      "C\n"
     ]
    }
   ],
   "source": [
    "for 변수 in [\"A\", \"B\", \"C\"]:\n",
    "  print(변수)"
   ]
  },
  {
   "cell_type": "markdown",
   "id": "da7d59c3",
   "metadata": {},
   "source": [
    "### 134\n",
    "for문을 풀어서 동일한 동작을하는 코드를 작성하라."
   ]
  },
  {
   "cell_type": "code",
   "execution_count": 79,
   "id": "15760f4f",
   "metadata": {},
   "outputs": [
    {
     "name": "stdout",
     "output_type": "stream",
     "text": [
      "출력: A\n",
      "출력: B\n",
      "출력: C\n"
     ]
    }
   ],
   "source": [
    "for 변수 in [\"A\", \"B\", \"C\"]:\n",
    "  print(\"출력:\", 변수)"
   ]
  },
  {
   "cell_type": "markdown",
   "id": "c95a8fa1",
   "metadata": {},
   "source": [
    "### 135\n",
    "for문을 풀어서 동일한 동작을 하는 코드를 작성하라."
   ]
  },
  {
   "cell_type": "code",
   "execution_count": 80,
   "id": "d6ccbb08",
   "metadata": {},
   "outputs": [
    {
     "name": "stdout",
     "output_type": "stream",
     "text": [
      "변환: a\n",
      "변환: b\n",
      "변환: c\n"
     ]
    }
   ],
   "source": [
    "for 변수 in [\"A\", \"B\", \"C\"]:\n",
    "  b = 변수.lower()\n",
    "  print(\"변환:\", b)"
   ]
  },
  {
   "cell_type": "markdown",
   "id": "d51d4877",
   "metadata": {},
   "source": [
    "### 136\n",
    "다음 코드를 for문으로 작성하라."
   ]
  },
  {
   "cell_type": "code",
   "execution_count": 81,
   "id": "126a5c28",
   "metadata": {},
   "outputs": [
    {
     "name": "stdout",
     "output_type": "stream",
     "text": [
      "10\n",
      "20\n",
      "30\n"
     ]
    }
   ],
   "source": [
    "변수 = 10\n",
    "print(변수)\n",
    "변수 = 20\n",
    "print(변수)\n",
    "변수 = 30\n",
    "print(변수)"
   ]
  },
  {
   "cell_type": "code",
   "execution_count": 82,
   "id": "074236e3",
   "metadata": {},
   "outputs": [
    {
     "name": "stdout",
     "output_type": "stream",
     "text": [
      "10\n",
      "20\n",
      "30\n"
     ]
    }
   ],
   "source": [
    "for i in [10, 20, 30]:\n",
    "    print(i)"
   ]
  },
  {
   "cell_type": "markdown",
   "id": "423bda4f",
   "metadata": {},
   "source": [
    "### 137\n",
    "다음 코드를 for문으로 작성하라."
   ]
  },
  {
   "cell_type": "code",
   "execution_count": 84,
   "id": "568ca206",
   "metadata": {},
   "outputs": [
    {
     "name": "stdout",
     "output_type": "stream",
     "text": [
      "10\n",
      "20\n",
      "30\n"
     ]
    }
   ],
   "source": [
    "print(10)\n",
    "print(20)\n",
    "print(30)"
   ]
  },
  {
   "cell_type": "code",
   "execution_count": 85,
   "id": "ee8628d5",
   "metadata": {},
   "outputs": [
    {
     "name": "stdout",
     "output_type": "stream",
     "text": [
      "10\n",
      "20\n",
      "30\n"
     ]
    }
   ],
   "source": [
    "for i in [10, 20, 30]:\n",
    "    print(i)"
   ]
  },
  {
   "cell_type": "markdown",
   "id": "7c80f3db",
   "metadata": {},
   "source": [
    "### 138\n",
    "다음 코드를 for문으로 작성하라."
   ]
  },
  {
   "cell_type": "code",
   "execution_count": 87,
   "id": "759779e6",
   "metadata": {},
   "outputs": [
    {
     "name": "stdout",
     "output_type": "stream",
     "text": [
      "10\n",
      "-------\n",
      "20\n",
      "-------\n",
      "30\n",
      "-------\n"
     ]
    }
   ],
   "source": [
    "print(10)\n",
    "print(\"-------\")\n",
    "print(20)\n",
    "print(\"-------\")\n",
    "print(30)\n",
    "print(\"-------\")"
   ]
  },
  {
   "cell_type": "code",
   "execution_count": 88,
   "id": "1edcd8be",
   "metadata": {},
   "outputs": [
    {
     "name": "stdout",
     "output_type": "stream",
     "text": [
      "10\n",
      "-------\n",
      "20\n",
      "-------\n",
      "30\n",
      "-------\n"
     ]
    }
   ],
   "source": [
    "for i in [10, 20, 30]:\n",
    "    print(i)\n",
    "    print(\"-------\")"
   ]
  },
  {
   "cell_type": "markdown",
   "id": "de2b920a",
   "metadata": {},
   "source": [
    "### 139\n",
    "다음 코드를 for문으로 작성하라."
   ]
  },
  {
   "cell_type": "code",
   "execution_count": 89,
   "id": "d5e29788",
   "metadata": {
    "scrolled": true
   },
   "outputs": [
    {
     "name": "stdout",
     "output_type": "stream",
     "text": [
      "++++\n",
      "10\n",
      "20\n",
      "30\n"
     ]
    }
   ],
   "source": [
    "print(\"++++\")\n",
    "print(10)\n",
    "print(20)\n",
    "print(30)"
   ]
  },
  {
   "cell_type": "code",
   "execution_count": 91,
   "id": "5feac926",
   "metadata": {},
   "outputs": [
    {
     "name": "stdout",
     "output_type": "stream",
     "text": [
      "++++\n",
      "10\n",
      "20\n",
      "30\n"
     ]
    }
   ],
   "source": [
    "print(\"++++\")\n",
    "for i in [10, 20, 30]:\n",
    "    print(i)\n"
   ]
  },
  {
   "cell_type": "markdown",
   "id": "99edfa79",
   "metadata": {},
   "source": [
    "### 140\n",
    "다음 코드를 for문으로 작성하라."
   ]
  },
  {
   "cell_type": "code",
   "execution_count": 93,
   "id": "b15bca01",
   "metadata": {
    "scrolled": true
   },
   "outputs": [
    {
     "name": "stdout",
     "output_type": "stream",
     "text": [
      "-------\n",
      "-------\n",
      "-------\n",
      "-------\n"
     ]
    }
   ],
   "source": [
    "print(\"-------\")\n",
    "print(\"-------\")\n",
    "print(\"-------\")\n",
    "print(\"-------\")"
   ]
  },
  {
   "cell_type": "code",
   "execution_count": 96,
   "id": "8385c89e",
   "metadata": {},
   "outputs": [
    {
     "name": "stdout",
     "output_type": "stream",
     "text": [
      "-------\n",
      "-------\n",
      "-------\n",
      "-------\n"
     ]
    }
   ],
   "source": [
    "for i in range(4):\n",
    "    print('-------')"
   ]
  },
  {
   "cell_type": "markdown",
   "id": "78268fe3",
   "metadata": {},
   "source": [
    "### 141\n",
    "다음과 같이 판매가가 저장된 리스트가 있을 때 부가세가 포함된 가격을 for 문을 사용해서 화면에 출력하라. 단 부가세는 10원으로 가정한다."
   ]
  },
  {
   "cell_type": "code",
   "execution_count": 97,
   "id": "9ca072bf",
   "metadata": {},
   "outputs": [
    {
     "name": "stdout",
     "output_type": "stream",
     "text": [
      "110\n",
      "210\n",
      "310\n"
     ]
    }
   ],
   "source": [
    "price = [100, 200, 300]\n",
    "\n",
    "for i in price:\n",
    "    print(i+10)"
   ]
  },
  {
   "cell_type": "markdown",
   "id": "663e546a",
   "metadata": {},
   "source": [
    "### 142\n",
    "for 문을 사용해서 리스트에 저장된 값을 다음과 같이 출력하라."
   ]
  },
  {
   "cell_type": "code",
   "execution_count": 98,
   "id": "0a1368a3",
   "metadata": {},
   "outputs": [
    {
     "name": "stdout",
     "output_type": "stream",
     "text": [
      "오늘의 메뉴: 김밥\n",
      "오늘의 메뉴: 라면\n",
      "오늘의 메뉴: 튀김\n"
     ]
    }
   ],
   "source": [
    "menu = [\"김밥\", \"라면\", \"튀김\"]\n",
    "\n",
    "for i in menu:\n",
    "    print(f\"오늘의 메뉴: {i}\")"
   ]
  },
  {
   "cell_type": "markdown",
   "id": "253627a0",
   "metadata": {},
   "source": [
    "### 143\n",
    "리스트에 주식 종목이름이 저장돼 있다."
   ]
  },
  {
   "cell_type": "code",
   "execution_count": 99,
   "id": "ae166f44",
   "metadata": {},
   "outputs": [
    {
     "name": "stdout",
     "output_type": "stream",
     "text": [
      "6\n",
      "4\n",
      "4\n"
     ]
    }
   ],
   "source": [
    "name = [\"SK하이닉스\", \"삼성전자\", \"LG전자\"]\n",
    "\n",
    "for i in name:\n",
    "    print(len(i))"
   ]
  },
  {
   "cell_type": "markdown",
   "id": "bbca3682",
   "metadata": {},
   "source": [
    "### 144\n",
    "리스트에는 동물이름이 문자열로 저장돼 있다."
   ]
  },
  {
   "cell_type": "code",
   "execution_count": 101,
   "id": "97d1e7f7",
   "metadata": {},
   "outputs": [
    {
     "name": "stdout",
     "output_type": "stream",
     "text": [
      "dog 3\n",
      "cat 3\n",
      "parrot 6\n"
     ]
    }
   ],
   "source": [
    "animal = ['dog', 'cat', 'parrot']\n",
    "\n",
    "for i in animal:\n",
    "    print(f\"{i} {len(i)}\")"
   ]
  },
  {
   "cell_type": "markdown",
   "id": "50ec9c23",
   "metadata": {},
   "source": [
    "### 145\n",
    "리스트에 동물 이름 저장돼 있다."
   ]
  },
  {
   "cell_type": "code",
   "execution_count": 102,
   "id": "f8f93ac3",
   "metadata": {},
   "outputs": [
    {
     "name": "stdout",
     "output_type": "stream",
     "text": [
      "d\n",
      "c\n",
      "p\n"
     ]
    }
   ],
   "source": [
    "animal = ['dog', 'cat', 'parrot']\n",
    "\n",
    "for i in animal:\n",
    "    print(i[0])"
   ]
  },
  {
   "cell_type": "markdown",
   "id": "d8483afa",
   "metadata": {},
   "source": [
    "### 146\n",
    "리스트에는 세 개의 숫자가 바인딩돼 있다."
   ]
  },
  {
   "cell_type": "code",
   "execution_count": 103,
   "id": "e5f71aff",
   "metadata": {},
   "outputs": [
    {
     "name": "stdout",
     "output_type": "stream",
     "text": [
      "3 x 1\n",
      "3 x 2\n",
      "3 x 3\n"
     ]
    }
   ],
   "source": [
    "num = [1, 2, 3]\n",
    "\n",
    "for i in num:\n",
    "    print(f\"3 x {i}\")"
   ]
  },
  {
   "cell_type": "markdown",
   "id": "c512692f",
   "metadata": {},
   "source": [
    "### 147\n",
    "리스트에는 세 개의 숫자가 바인딩돼 있다."
   ]
  },
  {
   "cell_type": "code",
   "execution_count": 104,
   "id": "bbc36d0d",
   "metadata": {},
   "outputs": [
    {
     "name": "stdout",
     "output_type": "stream",
     "text": [
      "3 x 1 = 3\n",
      "3 x 2 = 6\n",
      "3 x 3 = 9\n"
     ]
    }
   ],
   "source": [
    "num = [1, 2, 3]\n",
    "\n",
    "for i in num:\n",
    "    print(f\"3 x {i} = {3*i}\")"
   ]
  },
  {
   "cell_type": "markdown",
   "id": "b8d639e7",
   "metadata": {},
   "source": [
    "### 148\n",
    "리스트에는 네 개의 문자열이 바인딩돼 있다."
   ]
  },
  {
   "cell_type": "code",
   "execution_count": 105,
   "id": "388755c6",
   "metadata": {},
   "outputs": [
    {
     "name": "stdout",
     "output_type": "stream",
     "text": [
      "나\n",
      "다\n",
      "라\n"
     ]
    }
   ],
   "source": [
    "letter = [\"가\", \"나\", \"다\", \"라\"]\n",
    "\n",
    "for i in letter[1:]:\n",
    "    print(i)"
   ]
  },
  {
   "cell_type": "markdown",
   "id": "dd2d42a5",
   "metadata": {},
   "source": [
    "### 149\n",
    "리스트에는 네 개의 문자열이 바인딩돼 있다."
   ]
  },
  {
   "cell_type": "code",
   "execution_count": 106,
   "id": "c0d4fac9",
   "metadata": {},
   "outputs": [
    {
     "name": "stdout",
     "output_type": "stream",
     "text": [
      "가\n",
      "다\n"
     ]
    }
   ],
   "source": [
    "letter = [\"가\", \"나\", \"다\", \"라\"]\n",
    "\n",
    "for i in letter[::2]:\n",
    "    print(i)"
   ]
  },
  {
   "cell_type": "markdown",
   "id": "18a8214a",
   "metadata": {},
   "source": [
    "### 150\n",
    "리스트에는 네 개의 문자열이 바인딩돼 있다."
   ]
  },
  {
   "cell_type": "code",
   "execution_count": 107,
   "id": "18f32f69",
   "metadata": {},
   "outputs": [
    {
     "name": "stdout",
     "output_type": "stream",
     "text": [
      "라\n",
      "다\n",
      "나\n",
      "가\n"
     ]
    }
   ],
   "source": [
    "letter = [\"가\", \"나\", \"다\", \"라\"]\n",
    "\n",
    "for i in letter[::-1]:\n",
    "    print(i)"
   ]
  },
  {
   "cell_type": "code",
   "execution_count": null,
   "id": "25a563ec",
   "metadata": {},
   "outputs": [],
   "source": [
    "s"
   ]
  }
 ],
 "metadata": {
  "kernelspec": {
   "display_name": "Python 3 (ipykernel)",
   "language": "python",
   "name": "python3"
  },
  "language_info": {
   "codemirror_mode": {
    "name": "ipython",
    "version": 3
   },
   "file_extension": ".py",
   "mimetype": "text/x-python",
   "name": "python",
   "nbconvert_exporter": "python",
   "pygments_lexer": "ipython3",
   "version": "3.11.5"
  }
 },
 "nbformat": 4,
 "nbformat_minor": 5
}
