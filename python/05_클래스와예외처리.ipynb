{
 "cells": [
  {
   "cell_type": "markdown",
   "id": "2e4a49d9",
   "metadata": {},
   "source": [
    "### 클래스"
   ]
  },
  {
   "cell_type": "code",
   "execution_count": 1,
   "id": "b4927cf0",
   "metadata": {},
   "outputs": [
    {
     "name": "stdout",
     "output_type": "stream",
     "text": [
      "3\n",
      "7\n",
      "3\n",
      "10\n"
     ]
    }
   ],
   "source": [
    "# calculator3.py\n",
    "class Calculator:\n",
    "    def __init__(self):\n",
    "        self.result = 0\n",
    "\n",
    "    def add(self, num):\n",
    "        self.result += num\n",
    "        return self.result\n",
    "\n",
    "cal1 = Calculator()\n",
    "cal2 = Calculator()\n",
    "\n",
    "print(cal1.add(3))\n",
    "print(cal1.add(4))\n",
    "print(cal2.add(3))\n",
    "print(cal2.add(7))\n"
   ]
  },
  {
   "cell_type": "code",
   "execution_count": 8,
   "id": "1cc1ac44",
   "metadata": {},
   "outputs": [],
   "source": [
    "class FourCal:\n",
    "    def setdata(self, first, second):\n",
    "        self.first = first\n",
    "        self.second = second\n",
    "    def add(self):\n",
    "        result = self.first + self.second\n",
    "        return result\n",
    "    def sub(self):\n",
    "        result = self.first - self.second\n",
    "        return result\n",
    "    def mul(self):\n",
    "        result = self.first * self.second\n",
    "        return result\n",
    "    def div(self):\n",
    "        result = self.first / self.second\n",
    "        return result"
   ]
  },
  {
   "cell_type": "code",
   "execution_count": 10,
   "id": "e2a78eca",
   "metadata": {},
   "outputs": [
    {
     "ename": "TypeError",
     "evalue": "FourCal.mul() takes 1 positional argument but 3 were given",
     "output_type": "error",
     "traceback": [
      "\u001b[1;31m---------------------------------------------------------------------------\u001b[0m",
      "\u001b[1;31mTypeError\u001b[0m                                 Traceback (most recent call last)",
      "Cell \u001b[1;32mIn[10], line 4\u001b[0m\n\u001b[0;32m      2\u001b[0m b \u001b[38;5;241m=\u001b[39m FourCal()\n\u001b[0;32m      3\u001b[0m a\u001b[38;5;241m.\u001b[39msetdata(\u001b[38;5;241m2\u001b[39m,\u001b[38;5;241m4\u001b[39m)\n\u001b[1;32m----> 4\u001b[0m a\u001b[38;5;241m.\u001b[39mmul(\u001b[38;5;241m2\u001b[39m,\u001b[38;5;241m4\u001b[39m)\n\u001b[0;32m      5\u001b[0m b\u001b[38;5;241m.\u001b[39msetdata(\u001b[38;5;241m5\u001b[39m,\u001b[38;5;241m4\u001b[39m)\n\u001b[0;32m      6\u001b[0m b\u001b[38;5;241m.\u001b[39mdiv(\u001b[38;5;241m6\u001b[39m,\u001b[38;5;241m2\u001b[39m)\n",
      "\u001b[1;31mTypeError\u001b[0m: FourCal.mul() takes 1 positional argument but 3 were given"
     ]
    }
   ],
   "source": [
    "a = FourCal()\n",
    "b = FourCal()\n",
    "a.setdata(2,4)\n",
    "a.mul(2,4)\n",
    "b.setdata(5,4)\n",
    "b.div(6,2)"
   ]
  },
  {
   "cell_type": "markdown",
   "id": "a337cec1",
   "metadata": {},
   "source": [
    "### 생성자"
   ]
  },
  {
   "cell_type": "code",
   "execution_count": 11,
   "id": "7574e621",
   "metadata": {},
   "outputs": [
    {
     "name": "stdout",
     "output_type": "stream",
     "text": [
      "00_마크다운.ipynb\n",
      "01_자료형&변수_연습문제_실습용.ipynb\n",
      "01_자료형&변수_연습문제_정답.ipynb\n",
      "01_자료형과 변수.ipynb\n",
      "01_자료형과변수.ipynb\n",
      "02_제어문.ipynb\n",
      "02_제어문_연습문제_실습용.ipynb\n",
      "03_코딩연습_전화번호프로그램_실습용.ipynb\n",
      "04_함수&입출력_연습문제_실습용.ipynb\n",
      "04_함수와입출력.ipynb\n",
      "05_클래스와예외처리.ipynb\n",
      "240306_Tel_exe.py\n",
      "foo.txt\n",
      "multistring.py.txt\n",
      "README.md\n",
      "Test.ipynb\n",
      "test.txt\n",
      "새파일.txt\n",
      "파이썬 300제(101~150).ipynb\n",
      "파이썬 300제(151~200).ipynb\n",
      "파이썬 300제(1~100).ipynb\n",
      "파이썬 300제(200~240).ipynb\n",
      "파이썬 300제(251~290).ipynb\n",
      "파이썬 300제.ipynb\n"
     ]
    }
   ],
   "source": [
    "import glob\n",
    "file = glob.glob(\"C:\\workspace\\WASSUP2\\WASSUP2\\python\\*\")\n",
    "for i in file:\n",
    "    print(i.split('\\\\')[-1])\n"
   ]
  },
  {
   "cell_type": "code",
   "execution_count": null,
   "id": "278cbabe",
   "metadata": {},
   "outputs": [],
   "source": []
  },
  {
   "cell_type": "code",
   "execution_count": null,
   "id": "3965335d",
   "metadata": {},
   "outputs": [],
   "source": []
  },
  {
   "cell_type": "code",
   "execution_count": null,
   "id": "b3d9470c",
   "metadata": {},
   "outputs": [],
   "source": []
  },
  {
   "cell_type": "code",
   "execution_count": null,
   "id": "6a85ffb8",
   "metadata": {},
   "outputs": [],
   "source": []
  },
  {
   "cell_type": "code",
   "execution_count": null,
   "id": "4db21aad",
   "metadata": {},
   "outputs": [],
   "source": []
  },
  {
   "cell_type": "code",
   "execution_count": null,
   "id": "dc51a2eb",
   "metadata": {},
   "outputs": [],
   "source": []
  },
  {
   "cell_type": "code",
   "execution_count": null,
   "id": "e6ddab50",
   "metadata": {},
   "outputs": [],
   "source": []
  },
  {
   "cell_type": "code",
   "execution_count": null,
   "id": "825a02c6",
   "metadata": {},
   "outputs": [],
   "source": []
  },
  {
   "cell_type": "code",
   "execution_count": null,
   "id": "ce5b4926",
   "metadata": {},
   "outputs": [],
   "source": []
  },
  {
   "cell_type": "code",
   "execution_count": null,
   "id": "9773b2c3",
   "metadata": {},
   "outputs": [],
   "source": []
  },
  {
   "cell_type": "code",
   "execution_count": null,
   "id": "e897dd5b",
   "metadata": {},
   "outputs": [],
   "source": []
  },
  {
   "cell_type": "code",
   "execution_count": null,
   "id": "3dcdca4b",
   "metadata": {},
   "outputs": [],
   "source": []
  }
 ],
 "metadata": {
  "kernelspec": {
   "display_name": "Python 3 (ipykernel)",
   "language": "python",
   "name": "python3"
  },
  "language_info": {
   "codemirror_mode": {
    "name": "ipython",
    "version": 3
   },
   "file_extension": ".py",
   "mimetype": "text/x-python",
   "name": "python",
   "nbconvert_exporter": "python",
   "pygments_lexer": "ipython3",
   "version": "3.11.5"
  }
 },
 "nbformat": 4,
 "nbformat_minor": 5
}
